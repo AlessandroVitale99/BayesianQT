{
  "cells": [
    {
      "cell_type": "markdown",
      "source": [
        "###Libraries and common functions"
      ],
      "metadata": {
        "id": "gyu3Mjq97Fn4"
      }
    },
    {
      "cell_type": "code",
      "execution_count": null,
      "metadata": {
        "id": "nOXdUgNBBlw9"
      },
      "outputs": [],
      "source": [
        "import numpy as np\n",
        "import sympy\n",
        "import math\n",
        "import scipy\n",
        "import os\n",
        "import random\n",
        "import pandas as pd\n",
        "import seaborn as sns\n",
        "import matplotlib as mpl\n",
        "import matplotlib.pyplot as plt\n",
        "from matplotlib.animation import FuncAnimation\n",
        "from IPython import display\n",
        "#from qiskit.visualization import plot_bloch_vector\n",
        "from sympy import Matrix\n",
        "from sympy.physics.quantum import TensorProduct"
      ]
    },
    {
      "cell_type": "markdown",
      "source": [
        "Pauli operators"
      ],
      "metadata": {
        "id": "JAxsQmlERsw5"
      }
    },
    {
      "cell_type": "code",
      "source": [
        "Id = np.matrix([[1 , 0],[0 , 1]])\n",
        "sx = np.matrix([[0 , 1] , [1 , 0]])\n",
        "sy = np.matrix([[0 , -1j] , [1j , 0]])\n",
        "sz = np.matrix([[1,0] , [0,-1]])\n",
        "pauli_1Q=[Id,sx,sy,sz]"
      ],
      "metadata": {
        "id": "kHlpc-JYQC3X"
      },
      "execution_count": null,
      "outputs": []
    },
    {
      "cell_type": "markdown",
      "source": [
        "fidelity and purity"
      ],
      "metadata": {
        "id": "Ha2ohNQ0RyEZ"
      }
    },
    {
      "cell_type": "code",
      "source": [
        "def fidelity(mean_state,state):\n",
        "  return np.real(np.trace(scipy.linalg.sqrtm(np.matmul(mean_state,state))))**2"
      ],
      "metadata": {
        "id": "0QV0NkzVySTZ"
      },
      "execution_count": null,
      "outputs": []
    },
    {
      "cell_type": "code",
      "source": [
        "def mean_fidelity(n,weights,particuls,mean_state):\n",
        "  mean=0\n",
        "  for i in range(n):\n",
        "    mean=np.real(weights[i])*fidelity(mean_state,particuls[i])+mean\n",
        "  return mean\n"
      ],
      "metadata": {
        "id": "IwGMfg570E9g"
      },
      "execution_count": null,
      "outputs": []
    },
    {
      "cell_type": "code",
      "source": [
        "def var_fidelity(mean,n,weights,particuls,mean_state):\n",
        "  var=0\n",
        "  for i in range(n):\n",
        "    var=np.real(weights[i])*((fidelity(mean_state,particuls[i])-mean)**2)+var\n",
        "  return var\n"
      ],
      "metadata": {
        "id": "mL80dF5s1DTo"
      },
      "execution_count": null,
      "outputs": []
    },
    {
      "cell_type": "code",
      "source": [
        "def purity(state):\n",
        "  return np.real(np.trace(np.matmul(state,state)))"
      ],
      "metadata": {
        "id": "nKI6ZLfGUHf-"
      },
      "execution_count": null,
      "outputs": []
    },
    {
      "cell_type": "markdown",
      "source": [
        "support functions"
      ],
      "metadata": {
        "id": "g-eB0Z6QR9iJ"
      }
    },
    {
      "cell_type": "code",
      "source": [
        "def to_string(lis):\n",
        "  strn=\"\"\n",
        "  l=[0 for i in range(len(lis))]\n",
        "  for i in range(len(lis)):\n",
        "    if(lis[i]-1>=0):\n",
        "      l[lis[i]-1]=1\n",
        "  for i in reversed(range(len(l))):\n",
        "    strn+=str(l[i])\n",
        "  return strn"
      ],
      "metadata": {
        "id": "oHeSVMLmMpgB"
      },
      "execution_count": null,
      "outputs": []
    },
    {
      "cell_type": "code",
      "source": [
        "possible_values=dict()\n",
        "\n",
        "def values(lis,n):\n",
        "  possible_values[to_string(lis)]=0\n",
        "  if lis[0]==n:\n",
        "    return\n",
        "  i=n-1\n",
        "  while(i>=0 and lis[i]+1>n):\n",
        "    lis[i]=0\n",
        "    i=i-1\n",
        "  lis[i]=lis[i]+1\n",
        "  values(lis,n)"
      ],
      "metadata": {
        "id": "baGkqJA2LZ-J"
      },
      "execution_count": null,
      "outputs": []
    },
    {
      "cell_type": "code",
      "source": [
        "possible_values"
      ],
      "metadata": {
        "colab": {
          "base_uri": "https://localhost:8080/"
        },
        "id": "o8_xR_sat50r",
        "outputId": "dc608eb5-5b1a-4ef9-aebe-d2c7a2503d75"
      },
      "execution_count": null,
      "outputs": [
        {
          "output_type": "execute_result",
          "data": {
            "text/plain": [
              "{}"
            ]
          },
          "metadata": {},
          "execution_count": 9
        }
      ]
    },
    {
      "cell_type": "code",
      "source": [
        "vec=list(possible_values.keys())\n",
        "vec"
      ],
      "metadata": {
        "colab": {
          "base_uri": "https://localhost:8080/"
        },
        "id": "CgzB_vJ9O__J",
        "outputId": "120bd58e-7a2d-4544-a0ad-9ac4cdb74a99"
      },
      "execution_count": null,
      "outputs": [
        {
          "output_type": "execute_result",
          "data": {
            "text/plain": [
              "[]"
            ]
          },
          "metadata": {},
          "execution_count": 10
        }
      ]
    },
    {
      "cell_type": "markdown",
      "source": [
        "coordinates on the bloch sphere and radius"
      ],
      "metadata": {
        "id": "6sLg2XnTSJNp"
      }
    },
    {
      "cell_type": "code",
      "source": [
        "def frobenius_coordinates(state,pauli):\n",
        "  return np.real(np.trace(np.matmul(state.H,pauli)))"
      ],
      "metadata": {
        "id": "A_HiJjXOQaRu"
      },
      "execution_count": null,
      "outputs": []
    },
    {
      "cell_type": "code",
      "source": [
        "def find_radius(cor):\n",
        "  sum=0\n",
        "  for i in range(len(cor)):\n",
        "    sum=sum+cor[i]**2\n",
        "\n",
        "  return np.sqrt(sum) "
      ],
      "metadata": {
        "id": "hbbQESUTQqtj"
      },
      "execution_count": null,
      "outputs": []
    },
    {
      "cell_type": "code",
      "source": [
        "number_of_qubits=1"
      ],
      "metadata": {
        "id": "thmCCc9109am"
      },
      "execution_count": null,
      "outputs": []
    },
    {
      "cell_type": "code",
      "source": [
        "values([0 for i in range((number_of_qubits))],(number_of_qubits))"
      ],
      "metadata": {
        "id": "Rra_2G0NNggO"
      },
      "execution_count": null,
      "outputs": []
    },
    {
      "cell_type": "code",
      "execution_count": null,
      "metadata": {
        "id": "DKvuWN4HNhAP"
      },
      "outputs": [],
      "source": [
        "E=[np.matrix([[int(i==j==k) for i in range(len(possible_values))] for k in range(len(possible_values))]) for j in range(len(possible_values))]"
      ]
    },
    {
      "cell_type": "code",
      "execution_count": null,
      "metadata": {
        "id": "2b0W4Ynec4JE"
      },
      "outputs": [],
      "source": [
        "list_mesure = [E[i%(2**number_of_qubits)] for i in range((2**number_of_qubits+1)*len(possible_values))]"
      ]
    },
    {
      "cell_type": "code",
      "source": [
        "def to_index(res):\n",
        "  index_vec=[]\n",
        "  for i in range(len(res)):\n",
        "    j=0\n",
        "    while j<res[i]:\n",
        "      j=j+1\n",
        "      index_vec.append(i)\n",
        "  return index_vec"
      ],
      "metadata": {
        "id": "InCHYqz6zYlJ"
      },
      "execution_count": null,
      "outputs": []
    },
    {
      "cell_type": "markdown",
      "source": [
        "SMC"
      ],
      "metadata": {
        "id": "GvN0azsgWwyI"
      }
    },
    {
      "cell_type": "code",
      "execution_count": null,
      "metadata": {
        "id": "2h1tgmM9Ea2-"
      },
      "outputs": [],
      "source": [
        "def Sequential_MC(N_particuls, list_Mesure, list_instance,toll):\n",
        "  N_mesurement = len(list_instance)\n",
        "  random.shuffle(list_instance)\n",
        "  Seff=1\n",
        "  number_res=0\n",
        "\n",
        "  particuls = sample_uniform_sphere(N_particuls)\n",
        "  weights = [1/N_particuls] * N_particuls\n",
        "\n",
        "  for i in range(N_mesurement):\n",
        "    outcome = list_Mesure[list_instance[i]]  \n",
        "    f=int(list_instance[i]/(2**number_of_qubits))\n",
        "    for part in range(N_particuls):\n",
        "            p=np.matmul(operators[f],np.matmul(particuls[part],operators[f].H))\n",
        "            prod=np.trace(p.dot(outcome)).real\n",
        "            weights[part] = prod * weights[part]\n",
        "    \n",
        "    weight_total_nextstep = np.sum(weights)\n",
        "    for k in range(N_particuls):\n",
        "        weights[k] = weights[k] / weight_total_nextstep\n",
        "\n",
        "    Wsq=0\n",
        "    for m in range(N_particuls):\n",
        "       Wsq=Wsq+weights[m]**2\n",
        "    Seff=1/Wsq\n",
        "    if(Seff/N_particuls<toll):\n",
        "        number_res=number_res+1\n",
        "        res=np.random.multinomial(N_particuls,pvals=weights)\n",
        "        particuls=resampling(res,particuls)\n",
        "        weights = [1/N_particuls] * N_particuls\n",
        "        Seff=1\n",
        "\n",
        "  return particuls,weights"
      ]
    },
    {
      "cell_type": "markdown",
      "source": [
        "jittering, consider using the first or the third"
      ],
      "metadata": {
        "id": "AGpt0ca6WpEx"
      }
    },
    {
      "cell_type": "code",
      "source": [
        "def jittering(state):\n",
        "  lamda,theta,phi=np.random.normal(0, 0.005),np.random.normal(0, 0.005),np.random.normal(0, 0.005)\n",
        "  U=np.matrix([[np.cos(theta/2), -np.exp(1j*lamda)*np.sin(theta/2)],[np.exp(1j*phi)*np.sin(theta/2), np.exp(1j*(lamda+phi))*np.cos(theta/2)]])\n",
        "  K=[[int(i==j) if (i>1 or j>1) else U[i,j] for i in range(2**number_of_qubits)] for j in range(2**number_of_qubits)]\n",
        "  K=np.matrix(K)\n",
        "  P=np.matrix(np.random.normal( size = ( 2**number_of_qubits, 2**number_of_qubits ),scale=0.005 ) + 1j * np.random.normal( size = ( 2**number_of_qubits, 2**number_of_qubits ),scale=0.005 ))\n",
        "  P,r=np.linalg.qr(P)\n",
        "  U=np.matmul(P,np.matmul(K,np.linalg.inv(P)))\n",
        "  K=np.matmul(U,np.matmul(state,U.H))\n",
        "  id=np.matrix(np.eye(2**number_of_qubits))\n",
        "  M=np.matrix(np.random.normal( size = ( 2**number_of_qubits, 2**number_of_qubits ),scale=0.005 ) + 1j * np.random.normal( size = ( 2**number_of_qubits, 2**number_of_qubits ),scale=0.005 ))\n",
        "  F=np.matmul(np.matmul((id+M),K),(id+M.H))/np.trace(np.matmul(np.matmul((id+M),K),(id+M.H)))\n",
        "  return np.matmul(np.matmul((id+M),K),(id+M.H))/np.trace(np.matmul(np.matmul((id+M),K),(id+M.H)))"
      ],
      "metadata": {
        "id": "7SiRQOF_u7wa"
      },
      "execution_count": null,
      "outputs": []
    },
    {
      "cell_type": "code",
      "source": [
        "def jittering(state):\n",
        "  pauli_base=[]\n",
        "  pauli_kQ=np.copy(pauli_1Q)\n",
        "  for k in range(number_of_qubits-1):\n",
        "    pauli_kpQ=[]\n",
        "    for i in pauli_kQ:\n",
        "       for j in pauli_1Q:\n",
        "          pauli_kpQ.append(np.matrix(TensorProduct(i,j)))\n",
        "    pauli_kQ=np.copy(pauli_kpQ)\n",
        "  pauli_base=[np.matrix(i) for i in pauli_kQ]\n",
        "  \n",
        "  coor=np.array([frobenius_coordinates(state,pauli) for pauli in pauli_base[1:]])\n",
        "  rho=find_radius(coor)\n",
        "  new_rho=rho+np.random.normal(0,0.01)\n",
        "  if new_rho>1:\n",
        "    new_rho=1\n",
        "  if new_rho<0:\n",
        "    new_rho=0\n",
        "\n",
        "  coor=coor/rho*new_rho\n",
        "\n",
        "  lamda,theta,phi=np.random.normal(0, 0.01),np.random.normal(0, 0.01),np.random.normal(0, 0.01)\n",
        "  U=np.matrix([[np.cos(theta/2), -np.exp(1j*lamda)*np.sin(theta/2)],[np.exp(1j*phi)*np.sin(theta/2), np.exp(1j*(lamda+phi))*np.cos(theta/2)]])\n",
        "  K=[[int(i==j) if (i>1 or j>1) else U[i,j] for i in range(2**number_of_qubits)] for j in range(2**number_of_qubits)]\n",
        "  K=np.matrix(K)\n",
        "  P=np.matrix(np.random.normal( size = ( 2**number_of_qubits, 2**number_of_qubits ),scale=0.01 ) + 1j * np.random.normal( size = ( 2**number_of_qubits, 2**number_of_qubits ),scale=0.01 ))\n",
        "  P,r=np.linalg.qr(P)\n",
        "  U=np.matmul(P,np.matmul(K,np.linalg.inv(P)))\n",
        "  K=np.matmul(U,np.matmul(state,U.H))\n",
        "\n",
        "\n",
        "\n",
        "  return np.matrix(K)\n",
        "\n"
      ],
      "metadata": {
        "id": "l5QHIIaBH5AU"
      },
      "execution_count": null,
      "outputs": []
    },
    {
      "cell_type": "code",
      "source": [
        "def jittering(state):\n",
        "  epsilon=np.random.beta(0.5,35)\n",
        "  gamma=np.random.beta(0.5,20)\n",
        "  lev=sample_uniform_sphere(1)[0]\n",
        "  new_state=(1-epsilon-gamma)*state+epsilon*lev+gamma*(state/np.sqrt(purity(state)+0.000001)+(1-1/np.sqrt(purity(state)+0.000001))*np.matrix(np.eye(2**number_of_qubits,2**number_of_qubits))/(2**number_of_qubits))\n",
        "\n",
        "  return new_state\n",
        "\n",
        "\n",
        "  "
      ],
      "metadata": {
        "id": "YHC4J5tK3EH5"
      },
      "execution_count": null,
      "outputs": []
    },
    {
      "cell_type": "markdown",
      "source": [
        "Sample from the haar measure"
      ],
      "metadata": {
        "id": "bcRF28cgREpy"
      }
    },
    {
      "cell_type": "code",
      "execution_count": null,
      "metadata": {
        "id": "3fIZPsuoC7SG"
      },
      "outputs": [],
      "source": [
        "def Haar_sampling(N):\n",
        "  l =[0] * N\n",
        "  for i in range(N):\n",
        "    M = np.random.normal( size = ( 2**number_of_qubits, 2**number_of_qubits ) ) + 1j * np.random.normal( size = ( 2**number_of_qubits, 2**number_of_qubits ) )\n",
        "    X = M.dot(M.conj().T)\n",
        "    l[i] = np.matrix(X/ np.trace(X))\n",
        "  return l"
      ]
    },
    {
      "cell_type": "markdown",
      "source": [
        "Sample uniformly inside the sphere"
      ],
      "metadata": {
        "id": "k8VpKo-4RLSa"
      }
    },
    {
      "cell_type": "code",
      "source": [
        "def sample_uniform_sphere(n):\n",
        "  l=[0]*n\n",
        "  for i in range(n):\n",
        "    U=Haar_sampling(1)[0]\n",
        "    A=np.matrix(np.random.normal( size = ( 2**number_of_qubits, 2**number_of_qubits ) ) + 1j * np.random.normal( size = ( 2**number_of_qubits, 2**number_of_qubits ) ))\n",
        "    A=A/np.sqrt(2**number_of_qubits)\n",
        "    id=np.matrix(np.eye(2**number_of_qubits))\n",
        "    l[i]=np.matmul(np.matmul((id+U),np.matmul(A,A.H)),(id+U.H))/np.trace(np.matmul(np.matmul((id+U),np.matmul(A,A.H)),(id+U.H)))\n",
        "  return l\n",
        "\n"
      ],
      "metadata": {
        "id": "BmEaXDehKJBQ"
      },
      "execution_count": null,
      "outputs": []
    },
    {
      "cell_type": "code",
      "source": [
        "def resampling(res,particuls):\n",
        "  par=particuls\n",
        "  res=to_index(res)\n",
        "  for i in range(len(res)):\n",
        "    par[i]=jittering(particuls[res[i]])\n",
        "  return par\n"
      ],
      "metadata": {
        "id": "nrILaSbCxHgI"
      },
      "execution_count": null,
      "outputs": []
    },
    {
      "cell_type": "code",
      "source": [
        "def sample_posterior(weights,particuls):\n",
        "  part=particuls[np.where(np.random.multinomial(1, weights)>0)[0][0]]\n",
        "  return part"
      ],
      "metadata": {
        "id": "lAqCQUg3Qky8"
      },
      "execution_count": null,
      "outputs": []
    },
    {
      "cell_type": "markdown",
      "source": [
        "###QISKIT"
      ],
      "metadata": {
        "id": "99HJTs6fS1fQ"
      }
    },
    {
      "cell_type": "code",
      "execution_count": null,
      "metadata": {
        "colab": {
          "base_uri": "https://localhost:8080/"
        },
        "id": "uC3ihCzEtfmt",
        "outputId": "31411b3d-61e3-4db0-fd6d-116dab49bfbc"
      },
      "outputs": [
        {
          "output_type": "stream",
          "name": "stdout",
          "text": [
            "Looking in indexes: https://pypi.org/simple, https://us-python.pkg.dev/colab-wheels/public/simple/\n",
            "Collecting qiskit\n",
            "  Downloading qiskit-0.41.0.tar.gz (14 kB)\n",
            "  Preparing metadata (setup.py) ... \u001b[?25l\u001b[?25hdone\n",
            "Collecting qiskit-terra==0.23.1\n",
            "  Downloading qiskit_terra-0.23.1-cp38-cp38-manylinux_2_17_x86_64.manylinux2014_x86_64.whl (5.1 MB)\n",
            "\u001b[2K     \u001b[90m━━━━━━━━━━━━━━━━━━━━━━━━━━━━━━━━━━━━━━━━\u001b[0m \u001b[32m5.1/5.1 MB\u001b[0m \u001b[31m39.4 MB/s\u001b[0m eta \u001b[36m0:00:00\u001b[0m\n",
            "\u001b[?25hCollecting qiskit-aer==0.11.2\n",
            "  Downloading qiskit_aer-0.11.2-cp38-cp38-manylinux_2_17_x86_64.manylinux2014_x86_64.whl (12.8 MB)\n",
            "\u001b[2K     \u001b[90m━━━━━━━━━━━━━━━━━━━━━━━━━━━━━━━━━━━━━━━━\u001b[0m \u001b[32m12.8/12.8 MB\u001b[0m \u001b[31m59.1 MB/s\u001b[0m eta \u001b[36m0:00:00\u001b[0m\n",
            "\u001b[?25hCollecting qiskit-ibmq-provider==0.20.0\n",
            "  Downloading qiskit_ibmq_provider-0.20.0-py3-none-any.whl (241 kB)\n",
            "\u001b[2K     \u001b[90m━━━━━━━━━━━━━━━━━━━━━━━━━━━━━━━━━━━━━━\u001b[0m \u001b[32m241.3/241.3 KB\u001b[0m \u001b[31m25.1 MB/s\u001b[0m eta \u001b[36m0:00:00\u001b[0m\n",
            "\u001b[?25hRequirement already satisfied: numpy>=1.16.3 in /usr/local/lib/python3.8/dist-packages (from qiskit-aer==0.11.2->qiskit) (1.21.6)\n",
            "Requirement already satisfied: scipy>=1.0 in /usr/local/lib/python3.8/dist-packages (from qiskit-aer==0.11.2->qiskit) (1.7.3)\n",
            "Requirement already satisfied: requests>=2.19 in /usr/local/lib/python3.8/dist-packages (from qiskit-ibmq-provider==0.20.0->qiskit) (2.25.1)\n",
            "Collecting websocket-client<=1.3.3\n",
            "  Downloading websocket_client-1.3.3-py3-none-any.whl (54 kB)\n",
            "\u001b[2K     \u001b[90m━━━━━━━━━━━━━━━━━━━━━━━━━━━━━━━━━━━━━━━━\u001b[0m \u001b[32m54.3/54.3 KB\u001b[0m \u001b[31m6.3 MB/s\u001b[0m eta \u001b[36m0:00:00\u001b[0m\n",
            "\u001b[?25hRequirement already satisfied: python-dateutil>=2.8.0 in /usr/local/lib/python3.8/dist-packages (from qiskit-ibmq-provider==0.20.0->qiskit) (2.8.2)\n",
            "Collecting requests-ntlm>=1.1.0\n",
            "  Downloading requests_ntlm-1.1.0-py2.py3-none-any.whl (5.7 kB)\n",
            "Collecting websockets>=10.0\n",
            "  Downloading websockets-10.4-cp38-cp38-manylinux_2_5_x86_64.manylinux1_x86_64.manylinux_2_17_x86_64.manylinux2014_x86_64.whl (106 kB)\n",
            "\u001b[2K     \u001b[90m━━━━━━━━━━━━━━━━━━━━━━━━━━━━━━━━━━━━━━\u001b[0m \u001b[32m107.0/107.0 KB\u001b[0m \u001b[31m12.8 MB/s\u001b[0m eta \u001b[36m0:00:00\u001b[0m\n",
            "\u001b[?25hRequirement already satisfied: urllib3>=1.21.1 in /usr/local/lib/python3.8/dist-packages (from qiskit-ibmq-provider==0.20.0->qiskit) (1.24.3)\n",
            "Collecting symengine>=0.9\n",
            "  Downloading symengine-0.9.2-cp38-cp38-manylinux2010_x86_64.whl (37.5 MB)\n",
            "\u001b[2K     \u001b[90m━━━━━━━━━━━━━━━━━━━━━━━━━━━━━━━━━━━━━━━━\u001b[0m \u001b[32m37.5/37.5 MB\u001b[0m \u001b[31m12.2 MB/s\u001b[0m eta \u001b[36m0:00:00\u001b[0m\n",
            "\u001b[?25hCollecting rustworkx>=0.12.0\n",
            "  Downloading rustworkx-0.12.1-cp38-cp38-manylinux_2_17_x86_64.manylinux2014_x86_64.whl (1.9 MB)\n",
            "\u001b[2K     \u001b[90m━━━━━━━━━━━━━━━━━━━━━━━━━━━━━━━━━━━━━━━━\u001b[0m \u001b[32m1.9/1.9 MB\u001b[0m \u001b[31m41.4 MB/s\u001b[0m eta \u001b[36m0:00:00\u001b[0m\n",
            "\u001b[?25hCollecting stevedore>=3.0.0\n",
            "  Downloading stevedore-5.0.0-py3-none-any.whl (49 kB)\n",
            "\u001b[2K     \u001b[90m━━━━━━━━━━━━━━━━━━━━━━━━━━━━━━━━━━━━━━━━\u001b[0m \u001b[32m49.6/49.6 KB\u001b[0m \u001b[31m5.3 MB/s\u001b[0m eta \u001b[36m0:00:00\u001b[0m\n",
            "\u001b[?25hRequirement already satisfied: psutil>=5 in /usr/local/lib/python3.8/dist-packages (from qiskit-terra==0.23.1->qiskit) (5.4.8)\n",
            "Collecting ply>=3.10\n",
            "  Downloading ply-3.11-py2.py3-none-any.whl (49 kB)\n",
            "\u001b[2K     \u001b[90m━━━━━━━━━━━━━━━━━━━━━━━━━━━━━━━━━━━━━━━━\u001b[0m \u001b[32m49.6/49.6 KB\u001b[0m \u001b[31m5.3 MB/s\u001b[0m eta \u001b[36m0:00:00\u001b[0m\n",
            "\u001b[?25hRequirement already satisfied: dill>=0.3 in /usr/local/lib/python3.8/dist-packages (from qiskit-terra==0.23.1->qiskit) (0.3.6)\n",
            "Requirement already satisfied: sympy>=1.3 in /usr/local/lib/python3.8/dist-packages (from qiskit-terra==0.23.1->qiskit) (1.7.1)\n",
            "Requirement already satisfied: six>=1.5 in /usr/local/lib/python3.8/dist-packages (from python-dateutil>=2.8.0->qiskit-ibmq-provider==0.20.0->qiskit) (1.15.0)\n",
            "Requirement already satisfied: idna<3,>=2.5 in /usr/local/lib/python3.8/dist-packages (from requests>=2.19->qiskit-ibmq-provider==0.20.0->qiskit) (2.10)\n",
            "Requirement already satisfied: chardet<5,>=3.0.2 in /usr/local/lib/python3.8/dist-packages (from requests>=2.19->qiskit-ibmq-provider==0.20.0->qiskit) (4.0.0)\n",
            "Requirement already satisfied: certifi>=2017.4.17 in /usr/local/lib/python3.8/dist-packages (from requests>=2.19->qiskit-ibmq-provider==0.20.0->qiskit) (2022.12.7)\n",
            "Collecting cryptography>=1.3\n",
            "  Downloading cryptography-39.0.1-cp36-abi3-manylinux_2_28_x86_64.whl (4.2 MB)\n",
            "\u001b[2K     \u001b[90m━━━━━━━━━━━━━━━━━━━━━━━━━━━━━━━━━━━━━━━━\u001b[0m \u001b[32m4.2/4.2 MB\u001b[0m \u001b[31m65.7 MB/s\u001b[0m eta \u001b[36m0:00:00\u001b[0m\n",
            "\u001b[?25hCollecting ntlm-auth>=1.0.2\n",
            "  Downloading ntlm_auth-1.5.0-py2.py3-none-any.whl (29 kB)\n",
            "Collecting pbr!=2.1.0,>=2.0.0\n",
            "  Downloading pbr-5.11.1-py2.py3-none-any.whl (112 kB)\n",
            "\u001b[2K     \u001b[90m━━━━━━━━━━━━━━━━━━━━━━━━━━━━━━━━━━━━━━\u001b[0m \u001b[32m112.7/112.7 KB\u001b[0m \u001b[31m12.0 MB/s\u001b[0m eta \u001b[36m0:00:00\u001b[0m\n",
            "\u001b[?25hRequirement already satisfied: mpmath>=0.19 in /usr/local/lib/python3.8/dist-packages (from sympy>=1.3->qiskit-terra==0.23.1->qiskit) (1.2.1)\n",
            "Requirement already satisfied: cffi>=1.12 in /usr/local/lib/python3.8/dist-packages (from cryptography>=1.3->requests-ntlm>=1.1.0->qiskit-ibmq-provider==0.20.0->qiskit) (1.15.1)\n",
            "Requirement already satisfied: pycparser in /usr/local/lib/python3.8/dist-packages (from cffi>=1.12->cryptography>=1.3->requests-ntlm>=1.1.0->qiskit-ibmq-provider==0.20.0->qiskit) (2.21)\n",
            "Building wheels for collected packages: qiskit\n",
            "  Building wheel for qiskit (setup.py) ... \u001b[?25l\u001b[?25hdone\n",
            "  Created wheel for qiskit: filename=qiskit-0.41.0-py3-none-any.whl size=12845 sha256=781399b75fbad5a9d95cef188d9a0943e85f54ed6f6ca8653bcee4443b85de1b\n",
            "  Stored in directory: /root/.cache/pip/wheels/02/23/9b/72a4fd1b76354304e2e58883995a5d6ae15c1cbe2e2eb69441\n",
            "Successfully built qiskit\n",
            "Installing collected packages: ply, websockets, websocket-client, symengine, rustworkx, pbr, ntlm-auth, stevedore, cryptography, requests-ntlm, qiskit-terra, qiskit-ibmq-provider, qiskit-aer, qiskit\n",
            "Successfully installed cryptography-39.0.1 ntlm-auth-1.5.0 pbr-5.11.1 ply-3.11 qiskit-0.41.0 qiskit-aer-0.11.2 qiskit-ibmq-provider-0.20.0 qiskit-terra-0.23.1 requests-ntlm-1.1.0 rustworkx-0.12.1 stevedore-5.0.0 symengine-0.9.2 websocket-client-1.3.3 websockets-10.4\n"
          ]
        }
      ],
      "source": [
        "!pip install qiskit"
      ]
    },
    {
      "cell_type": "code",
      "execution_count": null,
      "metadata": {
        "id": "oxtaVq2OtKDY",
        "colab": {
          "base_uri": "https://localhost:8080/",
          "height": 380
        },
        "outputId": "90f54268-090a-4f7b-f633-b726704d8697"
      },
      "outputs": [
        {
          "output_type": "error",
          "ename": "IndexError",
          "evalue": "ignored",
          "traceback": [
            "\u001b[0;31m---------------------------------------------------------------------------\u001b[0m",
            "\u001b[0;31mIndexError\u001b[0m                                Traceback (most recent call last)",
            "\u001b[0;32m<ipython-input-57-abe1d861ca05>\u001b[0m in \u001b[0;36m<module>\u001b[0;34m\u001b[0m\n\u001b[1;32m    111\u001b[0m         \u001b[0mself\u001b[0m\u001b[0;34m.\u001b[0m\u001b[0mres\u001b[0m\u001b[0;34m[\u001b[0m\u001b[0mop_number\u001b[0m\u001b[0;34m]\u001b[0m\u001b[0;34m=\u001b[0m\u001b[0mresult\u001b[0m\u001b[0;34m.\u001b[0m\u001b[0mget_counts\u001b[0m\u001b[0;34m(\u001b[0m\u001b[0mcircuit\u001b[0m\u001b[0;34m)\u001b[0m\u001b[0;34m\u001b[0m\u001b[0;34m\u001b[0m\u001b[0m\n\u001b[1;32m    112\u001b[0m \u001b[0;34m\u001b[0m\u001b[0m\n\u001b[0;32m--> 113\u001b[0;31m \u001b[0mex1\u001b[0m\u001b[0;34m=\u001b[0m\u001b[0mexperiments\u001b[0m\u001b[0;34m(\u001b[0m\u001b[0;36m500\u001b[0m\u001b[0;34m,\u001b[0m \u001b[0mnumber_of_qubits\u001b[0m\u001b[0;34m,\u001b[0m\u001b[0;36m0\u001b[0m\u001b[0;34m,\u001b[0m\u001b[0;36m0\u001b[0m\u001b[0;34m)\u001b[0m\u001b[0;34m\u001b[0m\u001b[0;34m\u001b[0m\u001b[0m\n\u001b[0m\u001b[1;32m    114\u001b[0m \u001b[0;32mfor\u001b[0m \u001b[0mi\u001b[0m \u001b[0;32min\u001b[0m \u001b[0mrange\u001b[0m\u001b[0;34m(\u001b[0m\u001b[0;36m2\u001b[0m\u001b[0;34m**\u001b[0m\u001b[0mnumber_of_qubits\u001b[0m\u001b[0;34m+\u001b[0m\u001b[0;36m1\u001b[0m\u001b[0;34m)\u001b[0m\u001b[0;34m:\u001b[0m\u001b[0;34m\u001b[0m\u001b[0;34m\u001b[0m\u001b[0m\n\u001b[1;32m    115\u001b[0m   \u001b[0mprint\u001b[0m\u001b[0;34m(\u001b[0m\u001b[0mex1\u001b[0m\u001b[0;34m.\u001b[0m\u001b[0msimulated\u001b[0m\u001b[0;34m[\u001b[0m\u001b[0mi\u001b[0m\u001b[0;34m]\u001b[0m\u001b[0;34m)\u001b[0m\u001b[0;34m\u001b[0m\u001b[0;34m\u001b[0m\u001b[0m\n",
            "\u001b[0;32m<ipython-input-57-abe1d861ca05>\u001b[0m in \u001b[0;36m__init__\u001b[0;34m(self, n_of_shots, n_of_qubits, real, random)\u001b[0m\n\u001b[1;32m     21\u001b[0m             \u001b[0mself\u001b[0m\u001b[0;34m.\u001b[0m\u001b[0msimulated\u001b[0m\u001b[0;34m=\u001b[0m\u001b[0;34m[\u001b[0m\u001b[0;36m0\u001b[0m\u001b[0;34m]\u001b[0m\u001b[0;34m*\u001b[0m\u001b[0;34m(\u001b[0m\u001b[0;36m2\u001b[0m\u001b[0;34m**\u001b[0m\u001b[0mn_of_qubits\u001b[0m\u001b[0;34m+\u001b[0m\u001b[0;36m1\u001b[0m\u001b[0;34m)\u001b[0m\u001b[0;34m\u001b[0m\u001b[0;34m\u001b[0m\u001b[0m\n\u001b[1;32m     22\u001b[0m             \u001b[0;32mfor\u001b[0m \u001b[0mi\u001b[0m \u001b[0;32min\u001b[0m \u001b[0mrange\u001b[0m\u001b[0;34m(\u001b[0m\u001b[0;36m2\u001b[0m\u001b[0;34m**\u001b[0m\u001b[0mn_of_qubits\u001b[0m\u001b[0;34m+\u001b[0m\u001b[0;36m1\u001b[0m\u001b[0;34m)\u001b[0m\u001b[0;34m:\u001b[0m\u001b[0;34m\u001b[0m\u001b[0;34m\u001b[0m\u001b[0m\n\u001b[0;32m---> 23\u001b[0;31m               \u001b[0mself\u001b[0m\u001b[0;34m.\u001b[0m\u001b[0msimulate\u001b[0m\u001b[0;34m(\u001b[0m\u001b[0mi\u001b[0m\u001b[0;34m)\u001b[0m\u001b[0;34m\u001b[0m\u001b[0;34m\u001b[0m\u001b[0m\n\u001b[0m\u001b[1;32m     24\u001b[0m         \u001b[0;32mif\u001b[0m \u001b[0mreal\u001b[0m\u001b[0;34m==\u001b[0m\u001b[0;36m1\u001b[0m\u001b[0;34m:\u001b[0m\u001b[0;34m\u001b[0m\u001b[0;34m\u001b[0m\u001b[0m\n\u001b[1;32m     25\u001b[0m             \u001b[0mself\u001b[0m\u001b[0;34m.\u001b[0m\u001b[0mres\u001b[0m\u001b[0;34m=\u001b[0m\u001b[0;34m[\u001b[0m\u001b[0;36m0\u001b[0m\u001b[0;34m]\u001b[0m\u001b[0;34m*\u001b[0m\u001b[0;34m(\u001b[0m\u001b[0;36m2\u001b[0m\u001b[0;34m**\u001b[0m\u001b[0mn_of_qubits\u001b[0m\u001b[0;34m+\u001b[0m\u001b[0;36m1\u001b[0m\u001b[0;34m)\u001b[0m\u001b[0;34m\u001b[0m\u001b[0;34m\u001b[0m\u001b[0m\n",
            "\u001b[0;32m<ipython-input-57-abe1d861ca05>\u001b[0m in \u001b[0;36msimulate\u001b[0;34m(self, op_number)\u001b[0m\n\u001b[1;32m     45\u001b[0m             \u001b[0;32mif\u001b[0m \u001b[0mop_number\u001b[0m\u001b[0;34m<\u001b[0m\u001b[0;36m2\u001b[0m\u001b[0;34m**\u001b[0m\u001b[0mself\u001b[0m\u001b[0;34m.\u001b[0m\u001b[0mn_of_qubits\u001b[0m\u001b[0;34m:\u001b[0m\u001b[0;34m\u001b[0m\u001b[0;34m\u001b[0m\u001b[0m\n\u001b[1;32m     46\u001b[0m                 \u001b[0;32mfor\u001b[0m \u001b[0mi\u001b[0m \u001b[0;32min\u001b[0m \u001b[0mrange\u001b[0m\u001b[0;34m(\u001b[0m\u001b[0mself\u001b[0m\u001b[0;34m.\u001b[0m\u001b[0mn_of_qubits\u001b[0m\u001b[0;34m)\u001b[0m\u001b[0;34m:\u001b[0m\u001b[0;34m\u001b[0m\u001b[0;34m\u001b[0m\u001b[0m\n\u001b[0;32m---> 47\u001b[0;31m                   \u001b[0;32mif\u001b[0m\u001b[0;34m(\u001b[0m\u001b[0mvec\u001b[0m\u001b[0;34m[\u001b[0m\u001b[0mop_number\u001b[0m\u001b[0;34m]\u001b[0m\u001b[0;34m[\u001b[0m\u001b[0mi\u001b[0m\u001b[0;34m]\u001b[0m\u001b[0;34m==\u001b[0m\u001b[0;34m\"0\"\u001b[0m\u001b[0;34m)\u001b[0m\u001b[0;34m:\u001b[0m\u001b[0;34m\u001b[0m\u001b[0;34m\u001b[0m\u001b[0m\n\u001b[0m\u001b[1;32m     48\u001b[0m                       \u001b[0mcircuit\u001b[0m\u001b[0;34m.\u001b[0m\u001b[0mh\u001b[0m\u001b[0;34m(\u001b[0m\u001b[0mqr\u001b[0m\u001b[0;34m[\u001b[0m\u001b[0mi\u001b[0m\u001b[0;34m]\u001b[0m\u001b[0;34m)\u001b[0m\u001b[0;34m\u001b[0m\u001b[0;34m\u001b[0m\u001b[0m\n\u001b[1;32m     49\u001b[0m                       \u001b[0mcircuit1\u001b[0m\u001b[0;34m.\u001b[0m\u001b[0mh\u001b[0m\u001b[0;34m(\u001b[0m\u001b[0mqr1\u001b[0m\u001b[0;34m[\u001b[0m\u001b[0mi\u001b[0m\u001b[0;34m]\u001b[0m\u001b[0;34m)\u001b[0m\u001b[0;34m\u001b[0m\u001b[0;34m\u001b[0m\u001b[0m\n",
            "\u001b[0;31mIndexError\u001b[0m: list index out of range"
          ]
        }
      ],
      "source": [
        "#!pip install qiskit\n",
        "from qiskit import *\n",
        "from qiskit.tools.monitor import job_monitor\n",
        "from numpy import pi\n",
        "from qiskit import Aer\n",
        "from qiskit.circuit.random import random_circuit\n",
        "import qiskit.quantum_info as qi\n",
        "\n",
        "\n",
        "\n",
        "class experiments():\n",
        "    def __init__(self,n_of_shots,n_of_qubits,real=0,random=0):\n",
        "        self.n_of_shots=n_of_shots\n",
        "        self.n_of_qubits=n_of_qubits\n",
        "        self.random=random\n",
        "        self.operators=[]\n",
        "        self.real_state=0\n",
        "        \n",
        "        self.shots=n_of_shots\n",
        "        if real==0:\n",
        "            self.simulated=[0]*(2**n_of_qubits+1)\n",
        "            for i in range(2**n_of_qubits+1):\n",
        "              self.simulate(i)\n",
        "        if real==1:\n",
        "            self.res=[0]*(2**n_of_qubits+1)\n",
        "            for i in range(2**n_of_qubits+1):\n",
        "              self.rl(i)\n",
        "        \n",
        "    def simulate(self,op_number):\n",
        "        qr=QuantumRegister(self.n_of_qubits)\n",
        "        cr=ClassicalRegister(self.n_of_qubits)\n",
        "        circuit=QuantumCircuit(qr,cr)\n",
        "\n",
        "        self.real_state=np.matrix([[1 if i==j==0 else 0 for i in range(2**self.n_of_qubits)] for j in range(2**self.n_of_qubits)])\n",
        "        for i in range(self.n_of_qubits):\n",
        "            circuit.h(qr[i])\n",
        "            circuit.barrier(qr[i])\n",
        "        \n",
        "        self.real_state=np.matmul(np.matrix(qi.Operator(circuit)),np.matmul(self.real_state,np.matrix(qi.Operator(circuit)).H))\n",
        "        if self.random==0:\n",
        "            qr1=QuantumRegister(self.n_of_qubits)\n",
        "            cr1=ClassicalRegister(self.n_of_qubits)\n",
        "            circuit1=QuantumCircuit(qr1,cr1)\n",
        "                \n",
        "            if op_number<2**self.n_of_qubits:\n",
        "                for i in range(self.n_of_qubits):\n",
        "                  if(vec[op_number][i]==\"0\"):\n",
        "                      circuit.h(qr[i])\n",
        "                      circuit1.h(qr1[i])\n",
        "                  else:\n",
        "                      circuit1.u(pi / 2, 0, pi / 2, qr1[i])\n",
        "                      circuit.u(pi / 2, 0, pi / 2, qr[i])\n",
        "                self.operators.append(qi.Operator(circuit1))\n",
        "                \n",
        "            else:\n",
        "                self.operators.append(qi.Operator(circuit1))\n",
        "\n",
        "        \n",
        "        else:\n",
        "            circuit1=random_circuit(self.n_of_qubits, 3,3)\n",
        "            self.operators.append(qi.Operator(circuit1))\n",
        "            circuit.compose(circuit1,inplace=True)\n",
        "            \n",
        "        circuit.measure(qr,cr)\n",
        "\n",
        "        simulator=Aer.get_backend(\"qasm_simulator\")\n",
        "        result=execute(circuit,backend=simulator,shots=self.shots).result()\n",
        "        self.simulated[op_number]=result.get_counts(circuit)\n",
        "        \n",
        "    def rl(self,op_number):\n",
        "        qr=QuantumRegister(self.n_of_qubits)\n",
        "        cr=ClassicalRegister(self.n_of_qubits)\n",
        "        circuit=QuantumCircuit(qr,cr)\n",
        "        \n",
        "        for i in range(self.n_of_qubits):\n",
        "            circuit.h(qr[i])\n",
        "            circuit.barrier(qr[i])\n",
        "        \n",
        "        if self.random==0:\n",
        "            qr1=QuantumRegister(self.n_of_qubits)\n",
        "            cr1=ClassicalRegister(self.n_of_qubits)\n",
        "            circuit1=QuantumCircuit(qr1,cr1)\n",
        "                \n",
        "            if op_number<2**self.n_of_qubits:\n",
        "                for i in range(self.n_of_qubits):\n",
        "                  if(vec[op_number][i]==\"0\"):\n",
        "                      circuit.h(qr[i])\n",
        "                      circuit1.h(qr1[i])\n",
        "                  else:\n",
        "                      circuit1.u(pi / 2, 0, pi / 2, qr1[i])\n",
        "                      circuit.u(pi / 2, 0, pi / 2, qr[i])\n",
        "                self.operators.append(qi.Operator(circuit1))\n",
        "                \n",
        "            else:\n",
        "                self.operators.append(qi.Operator(circuit1))\n",
        "\n",
        "        \n",
        "        else:\n",
        "            circuit1=random_circuit(self.n_of_qubits, 3,3)\n",
        "            self.operators.append(qi.Operator(circuit1))\n",
        "            circuit.compose(circuit1,inplace=True)\n",
        "            \n",
        "        circuit.measure(qr,cr)\n",
        "        \n",
        "        IBMQ.load_account()\n",
        "        provider=IBMQ.get_provider(\"ibm-q\")\n",
        "        qcomp=provider.get_backend(\"ibmq_belem\")\n",
        "        job=execute(circuit,backend=qcomp,shots=self.shots)\n",
        "        job_monitor(job)\n",
        "        result=job.result()\n",
        "        self.res[op_number]=result.get_counts(circuit)\n",
        "        \n",
        "ex1=experiments(500, number_of_qubits,0,0)\n",
        "for i in range(2**number_of_qubits+1):\n",
        "  print(ex1.simulated[i])\n",
        "  print(\"------------\")\n",
        "  print(ex1.operators[i])\n",
        "        \n",
        "        \n",
        "        \n",
        "        \n",
        "        \n",
        "        "
      ]
    },
    {
      "cell_type": "code",
      "source": [
        "print(ex1.real_state)"
      ],
      "metadata": {
        "id": "vG1udxa9KZqh",
        "colab": {
          "base_uri": "https://localhost:8080/"
        },
        "outputId": "6a692596-4340-4a67-dfbb-92d853fc4301"
      },
      "execution_count": null,
      "outputs": [
        {
          "output_type": "stream",
          "name": "stdout",
          "text": [
            "[[0.5+0.j 0.5+0.j]\n",
            " [0.5+0.j 0.5+0.j]]\n"
          ]
        }
      ]
    },
    {
      "cell_type": "code",
      "source": [
        "possible_values"
      ],
      "metadata": {
        "colab": {
          "base_uri": "https://localhost:8080/"
        },
        "id": "KG-_Wa-MsiLe",
        "outputId": "f8f83440-35fc-4efc-fc01-694430be139c"
      },
      "execution_count": null,
      "outputs": [
        {
          "output_type": "execute_result",
          "data": {
            "text/plain": [
              "{'0': 0, '1': 0}"
            ]
          },
          "metadata": {},
          "execution_count": 14
        }
      ]
    },
    {
      "cell_type": "markdown",
      "source": [
        "the experiment could not have some results, but for the algorithm to work we need full support"
      ],
      "metadata": {
        "id": "kSl6dJ7jTBhY"
      }
    },
    {
      "cell_type": "code",
      "source": [
        "for i in possible_values.keys():\n",
        "  for j in range(2**number_of_qubits+1):\n",
        "    if(ex1.simulated[j].get(i)==None):\n",
        "      ex1.simulated[j][i]=0\n"
      ],
      "metadata": {
        "id": "EmoBIru0vKi3"
      },
      "execution_count": null,
      "outputs": []
    },
    {
      "cell_type": "markdown",
      "source": [
        "create a list of measurements, each unique element of the support in each configuration will have a unique identifier "
      ],
      "metadata": {
        "id": "QDejcZrtTaSQ"
      }
    },
    {
      "cell_type": "code",
      "source": [
        "mesur_list=[]\n",
        "k=-1\n",
        "for i in range(2**number_of_qubits+1):\n",
        "    for j in possible_values:\n",
        "      k=k+1\n",
        "      for m in range(ex1.simulated[i][j]):\n",
        "        mesur_list.append(k)"
      ],
      "metadata": {
        "id": "n9eSzBy1xoI1"
      },
      "execution_count": null,
      "outputs": []
    },
    {
      "cell_type": "markdown",
      "source": [
        "we need a list of 2^n measurements for each 2^n+1 basis"
      ],
      "metadata": {
        "id": "Dep3NiJjUh_Q"
      }
    },
    {
      "cell_type": "code",
      "source": [
        "operators=ex1.operators"
      ],
      "metadata": {
        "id": "ZTZBVTVDV1ZY"
      },
      "execution_count": null,
      "outputs": []
    },
    {
      "cell_type": "markdown",
      "source": [
        "1qubit measurement operator basis"
      ],
      "metadata": {
        "id": "swX5LZrpU_6Q"
      }
    },
    {
      "cell_type": "code",
      "source": [
        "H=np.matrix([[1/np.sqrt(2),1/np.sqrt(2)],[1/np.sqrt(2),-1/np.sqrt(2)]])\n",
        "U=np.matrix([[1/np.sqrt(2),-1j/np.sqrt(2)],[1/np.sqrt(2),1j/np.sqrt(2)]])\n",
        "I=np.matrix(np.eye(2))"
      ],
      "metadata": {
        "id": "O2fdkhA-HG0y"
      },
      "execution_count": null,
      "outputs": []
    },
    {
      "cell_type": "code",
      "source": [
        "if number_of_qubits==2:\n",
        "  operators=[np.matrix(TensorProduct(H,H)),np.matrix(TensorProduct(U,H)),np.matrix(TensorProduct(H,U)),np.matrix(TensorProduct(U,U)),np.matrix(TensorProduct(I,I))]"
      ],
      "metadata": {
        "id": "jz6Ui2VQGx9C"
      },
      "execution_count": null,
      "outputs": []
    },
    {
      "cell_type": "code",
      "source": [
        "for i in range(2**number_of_qubits+1):\n",
        "  operators[i]=np.matrix(operators[i])"
      ],
      "metadata": {
        "id": "c9YLzn6KVibG"
      },
      "execution_count": null,
      "outputs": []
    },
    {
      "cell_type": "markdown",
      "source": [
        "SMC"
      ],
      "metadata": {
        "id": "LjXG0aBFVIVQ"
      }
    },
    {
      "cell_type": "code",
      "source": [
        "Id = np.matrix([[1 , 0],[0 , 1]])\n",
        "sx = np.matrix([[0 , 1] , [1 , 0]])\n",
        "sy = np.matrix([[0 , -1j] , [1j , 0]])\n",
        "sz = np.matrix([[1,0] , [0,-1]])\n",
        "pauli_1Q=[Id,sx,sy,sz]"
      ],
      "metadata": {
        "id": "E_-xZltxRfWv"
      },
      "execution_count": null,
      "outputs": []
    },
    {
      "cell_type": "markdown",
      "source": [
        "SMC"
      ],
      "metadata": {
        "id": "YC1R-ZmbVX4q"
      }
    },
    {
      "cell_type": "code",
      "execution_count": null,
      "metadata": {
        "id": "Q8TXoa2jMfZY"
      },
      "outputs": [],
      "source": [
        "toll=0.3\n",
        "n=500\n",
        "particuls,weights = Sequential_MC(n,list_mesure,mesur_list,toll)"
      ]
    },
    {
      "cell_type": "code",
      "source": [
        "order = np.argsort(weights)\n",
        "weight_ordered = [weights[k] for k in order]\n",
        "particul_ordered = [particuls[k] for k in order]"
      ],
      "metadata": {
        "id": "bDtrOdQZ82UN"
      },
      "execution_count": null,
      "outputs": []
    },
    {
      "cell_type": "code",
      "execution_count": null,
      "metadata": {
        "id": "HlWU-CY0gVJA"
      },
      "outputs": [],
      "source": [
        "Level_of_confidence = 0.95"
      ]
    },
    {
      "cell_type": "code",
      "source": [
        "mean_state=ex1.real_state"
      ],
      "metadata": {
        "id": "JZ6DftH1zwto"
      },
      "execution_count": null,
      "outputs": []
    },
    {
      "cell_type": "code",
      "execution_count": null,
      "metadata": {
        "id": "kAK-rYsNwE7B"
      },
      "outputs": [],
      "source": [
        "sum = 0\n",
        "rank = 0\n",
        "N = len(weights)\n",
        "while (rank < N) and (sum < Level_of_confidence):\n",
        "  sum += weights[-rank-1]\n",
        "  rank += 1"
      ]
    },
    {
      "cell_type": "code",
      "execution_count": null,
      "metadata": {
        "id": "_Nexkz1jzv3x",
        "colab": {
          "base_uri": "https://localhost:8080/"
        },
        "outputId": "2750f4ed-ecfb-4b80-f7cb-755a9da3d44a"
      },
      "outputs": [
        {
          "output_type": "execute_result",
          "data": {
            "text/plain": [
              "482"
            ]
          },
          "metadata": {},
          "execution_count": 239
        }
      ],
      "source": [
        "rank"
      ]
    },
    {
      "cell_type": "code",
      "execution_count": null,
      "metadata": {
        "id": "D6CASPM9Z8O_",
        "colab": {
          "base_uri": "https://localhost:8080/"
        },
        "outputId": "fd138580-b4d9-4663-b10e-85f84333b34b"
      },
      "outputs": [
        {
          "output_type": "stream",
          "name": "stdout",
          "text": [
            "0.006159423986235773\n",
            "1.0000000000000002\n"
          ]
        }
      ],
      "source": [
        "max = np.amax(weights)\n",
        "print(max)\n",
        "s = np.sum(weights)\n",
        "print(s)"
      ]
    },
    {
      "cell_type": "code",
      "execution_count": null,
      "metadata": {
        "id": "H5T9v942R7Jl"
      },
      "outputs": [],
      "source": [
        "Id = np.matrix([[1 , 0],[0 , 1]])\n",
        "sx = np.matrix([[0 , 1] , [1 , 0]])\n",
        "sy = np.matrix([[0 , -1j] , [1j , 0]])\n",
        "sz = np.matrix([[1,0] , [0,-1]])"
      ]
    },
    {
      "cell_type": "code",
      "execution_count": null,
      "metadata": {
        "id": "RtlvYJkLQgf6"
      },
      "outputs": [],
      "source": [
        "def measure(ρ):\n",
        "    Id = np.matrix([[1 , 0],[0 , 1]])\n",
        "    sx = np.matrix([[0 , 1] , [1 , 0]])\n",
        "    sy = np.matrix([[0 , -1j] , [1j , 0]])\n",
        "    sz = np.matrix([[1,0] , [0,-1]])    \n",
        "    x = np.trace(np.dot(ρ, sx)).real\n",
        "    y = np.trace(np.dot(ρ, sy)).real\n",
        "    z = np.trace(np.dot(ρ, sz)).real\n",
        "    return [x, y, z]"
      ]
    },
    {
      "cell_type": "code",
      "execution_count": null,
      "metadata": {
        "id": "pharumSZQmU0"
      },
      "outputs": [],
      "source": [
        "R = [measure(rho) for rho in particuls]"
      ]
    },
    {
      "cell_type": "markdown",
      "source": [
        "plots (only 1qubit supported)"
      ],
      "metadata": {
        "id": "LsNUU3FyYV3e"
      }
    },
    {
      "cell_type": "code",
      "execution_count": null,
      "metadata": {
        "id": "2JgNav_TSIFs",
        "colab": {
          "base_uri": "https://localhost:8080/",
          "height": 374
        },
        "outputId": "fa562ddd-97d0-4b2d-c2b7-4baa4c4020fa"
      },
      "outputs": [
        {
          "output_type": "stream",
          "name": "stderr",
          "text": [
            "/usr/local/lib/python3.8/dist-packages/mpl_toolkits/mplot3d/art3d.py:304: VisibleDeprecationWarning: Creating an ndarray from ragged nested sequences (which is a list-or-tuple of lists-or-tuples-or ndarrays with different lengths or shapes) is deprecated. If you meant to do this, you must specify 'dtype=object' when creating the ndarray.\n",
            "  self._segments3d = np.asanyarray(segments)\n"
          ]
        },
        {
          "output_type": "display_data",
          "data": {
            "text/plain": [
              "<Figure size 432x288 with 1 Axes>"
            ],
            "image/png": "[encoded data removed]"
          },
          "metadata": {
            "needs_background": "light"
          }
        }
      ],
      "source": [
        "import qutip\n",
        "#plot with color for weight visualisation\n",
        "import numpy as np\n",
        "import matplotlib.pyplot as plt\n",
        "import mpl_toolkits.mplot3d.axes3d as p3\n",
        "import matplotlib.animation as animation\n",
        " \n",
        "fig = plt.figure()\n",
        "\n",
        "N = len(particuls)\n",
        "# max = np.amax(weigths)\n",
        "\n",
        "b = qutip.Bloch3d() #if it gives problem use qubip.Bloch() instead and remove the last commands(b. ect)\n",
        "x, y, z = [], [], []\n",
        "# syntax for 3-D projection\n",
        "for i in range(N):\n",
        "  #c = ((1-weigths[i]/max),(1-weigths[i]/max), (1-weigths[i]/max))\n",
        "    c = (0,0,0)\n",
        "    p = measure(particuls[i])\n",
        "    z.append(p[2])\n",
        "    x.append(p[0])\n",
        "    y.append(p[1])\n",
        "  #ax.scatter(x, y, z, c = weights[i]*255*10)\n",
        "\n",
        "\n",
        "b.add_points([x,y,z],alpha=1)\n",
        "b.point_color=['#3a7cbd']\n",
        "b.point_size=0.035\n",
        "\n",
        "\n",
        "\n",
        "b.show()"
      ]
    },
    {
      "cell_type": "markdown",
      "source": [
        "###DISTRIBUTION ON ONE QUBIT"
      ],
      "metadata": {
        "id": "nccFhYedfHrE"
      }
    },
    {
      "cell_type": "code",
      "source": [
        "def insightful_sampling(alpha,beta,D,mean_state):\n",
        "  eps=np.random.beta(alpha,beta)\n",
        "  rho_f=np.matrix(Haar_sampling(1)[0])\n",
        "  rho_star=(alpha+beta)/alpha*(mean_state-beta/((alpha+beta)*D)*np.eye(D))\n",
        "  rho_s=(1.0-eps)*rho_f+eps*rho_star*np.trace(rho_f)\n",
        "  return rho_s\n"
      ],
      "metadata": {
        "id": "6r0YNGuqnI_D"
      },
      "execution_count": null,
      "outputs": []
    },
    {
      "cell_type": "markdown",
      "source": [
        "sample a random state,give the paramethers of the distribution"
      ],
      "metadata": {
        "id": "Pnca1SPGZBdG"
      }
    },
    {
      "cell_type": "code",
      "source": [
        "def insightful_sampling_spherical(alpha_rho,beta_rho,alpha_theta,beta_theta,alpha_phi,beta_phi):\n",
        "    Id = np.matrix([[1 , 0],[0 , 1]])\n",
        "    sx = np.matrix([[0 , 1] , [1 , 0]])\n",
        "    sy = np.matrix([[0 , -1j] , [1j , 0]])\n",
        "    sz = np.matrix([[1,0] , [0,-1]])\n",
        "\n",
        "    phi=math.pi*np.random.beta(alpha_phi,beta_phi)\n",
        "    theta=2*math.pi*np.random.beta(alpha_theta,beta_theta)-math.pi\n",
        "\n",
        "    rho=np.random.beta(alpha_rho,beta_rho)\n",
        "\n",
        "    sigmaz=math.cos(phi)*rho\n",
        "    sigmay=math.sin(theta)*math.sin(phi)*rho\n",
        "    sigmax=math.sin(phi)*math.cos(theta)*rho\n",
        "\n",
        "    return 0.5*(Id+sigmax*sx+sigmay*sy+sigmaz*sz)\n"
      ],
      "metadata": {
        "id": "8vk7JEXizHbv"
      },
      "execution_count": null,
      "outputs": []
    },
    {
      "cell_type": "code",
      "source": [
        "def mean_purity_distr(trials):\n",
        "  mean=0\n",
        "  for i in range(trials):\n",
        "    part_distr=insightful_sampling_spherical(9,1,400,400,200,200)\n",
        "    mean=mean+purity(part_distr)\n",
        "  mean=mean/trials\n",
        "  return mean"
      ],
      "metadata": {
        "id": "a-NRiDduVnYp"
      },
      "execution_count": null,
      "outputs": []
    },
    {
      "cell_type": "code",
      "source": [
        "H=np.matrix([[1/np.sqrt(2), 1/np.sqrt(2)],[1/np.sqrt(2), -1/np.sqrt(2)]])\n",
        "U=np.matrix([[1/np.sqrt(2), -1j/np.sqrt(2)],[1/np.sqrt(2), 1j/np.sqrt(2)]])"
      ],
      "metadata": {
        "id": "ze_WSGA1Er4Y"
      },
      "execution_count": null,
      "outputs": []
    },
    {
      "cell_type": "markdown",
      "source": [
        "create an experiment,give the number of experiments required and the paramethers on the distribution"
      ],
      "metadata": {
        "id": "htyAEjL_YtVH"
      }
    },
    {
      "cell_type": "code",
      "source": [
        "class random_experiments():\n",
        "  def __init__(self,experiment_number,alpha_rho,beta_rho,alpha_theta,beta_theta,alpha_phi,beta_phi):\n",
        "    self.n=experiment_number\n",
        "    self.alpha_rho=alpha_rho\n",
        "    self.beta_rho=beta_rho\n",
        "    self.alpha_theta=alpha_theta\n",
        "    self.beta_theta=beta_theta\n",
        "    self.alpha_phi=alpha_phi\n",
        "    self.beta_phi=beta_phi\n",
        "    self.Xsimulated=dict()\n",
        "    self.Ysimulated=dict()\n",
        "    self.Zsimulated=dict()\n",
        "    self.Xsimulated[\"0\"]=0\n",
        "    self.Xsimulated[\"1\"]=0\n",
        "    self.Ysimulated[\"0\"]=0\n",
        "    self.Ysimulated[\"1\"]=0\n",
        "    self.Zsimulated[\"0\"]=0\n",
        "    self.Zsimulated[\"1\"]=0\n",
        "    self.particuls=[insightful_sampling_spherical(alpha_rho,beta_rho,alpha_theta,beta_theta,alpha_phi,beta_phi) for i in range(self.n)]\n",
        "\n",
        "    for i in range(self.n):\n",
        "      res=np.random.binomial(1,np.real(self.particuls[i][1,1]))\n",
        "      if res==1:\n",
        "        self.Zsimulated[\"1\"]=self.Zsimulated[\"1\"]+1\n",
        "      else:\n",
        "        self.Zsimulated[\"0\"]=self.Zsimulated[\"0\"]+1\n",
        "      tr_X=np.matmul(H,np.matmul(self.particuls[i],H.H))\n",
        "      res=np.random.binomial(1,np.real(tr_X[1,1]))\n",
        "      if res==1:\n",
        "        self.Xsimulated[\"1\"]=self.Xsimulated[\"1\"]+1\n",
        "      else:\n",
        "        self.Xsimulated[\"0\"]=self.Xsimulated[\"0\"]+1\n",
        "      tr_Y=np.matmul(U,np.matmul(self.particuls[i],U.H))\n",
        "      res=np.random.binomial(1,np.real(tr_Y[1,1]))\n",
        "      if res==1:\n",
        "        self.Ysimulated[\"1\"]=self.Ysimulated[\"1\"]+1\n",
        "      else:\n",
        "        self.Ysimulated[\"0\"]=self.Ysimulated[\"0\"]+1\n"
      ],
      "metadata": {
        "id": "ncsQ2_gRmaUh"
      },
      "execution_count": null,
      "outputs": []
    },
    {
      "cell_type": "code",
      "source": [
        "N=300\n",
        "e=random_experiments(N,9,1,400,400,200,200)"
      ],
      "metadata": {
        "id": "cHpPbVpeGGjF"
      },
      "execution_count": null,
      "outputs": []
    },
    {
      "cell_type": "code",
      "source": [
        "particuls=e.particuls"
      ],
      "metadata": {
        "id": "G0ioOKbGbmL8"
      },
      "execution_count": null,
      "outputs": []
    },
    {
      "cell_type": "code",
      "source": [
        "print(e.Xsimulated)\n",
        "print(e.Ysimulated)\n",
        "print(e.Zsimulated)"
      ],
      "metadata": {
        "colab": {
          "base_uri": "https://localhost:8080/"
        },
        "id": "81gQ7oK8GVTU",
        "outputId": "b78383b7-47f9-41bb-a935-b5443024a5e8"
      },
      "execution_count": null,
      "outputs": [
        {
          "output_type": "stream",
          "name": "stdout",
          "text": [
            "{'0': 284, '1': 16}\n",
            "{'0': 149, '1': 151}\n",
            "{'0': 151, '1': 149}\n"
          ]
        }
      ]
    },
    {
      "cell_type": "code",
      "source": [
        "Id = np.matrix([[1 , 0],[0 , 1]])\n",
        "sx = np.matrix([[0 , 1] , [1 , 0]])\n",
        "sy = np.matrix([[0 , -1j] , [1j , 0]])\n",
        "sz = np.matrix([[1,0] , [0,-1]])"
      ],
      "metadata": {
        "id": "tUJfe6cKWTlm"
      },
      "execution_count": null,
      "outputs": []
    },
    {
      "cell_type": "code",
      "source": [
        "def measure(ρ):\n",
        "    Id = np.matrix([[1 , 0],[0 , 1]])\n",
        "    sx = np.matrix([[0 , 1] , [1 , 0]])\n",
        "    sy = np.matrix([[0 , -1j] , [1j , 0]])\n",
        "    sz = np.matrix([[1,0] , [0,-1]])    \n",
        "    x = np.trace(np.dot(ρ.H, sx)).real\n",
        "    y = np.trace(np.dot(ρ.H, sy)).real\n",
        "    z = np.trace(np.dot(ρ.H, sz)).real\n",
        "    return [x, y, z]"
      ],
      "metadata": {
        "id": "etQsFUNlWkQu"
      },
      "execution_count": null,
      "outputs": []
    },
    {
      "cell_type": "code",
      "source": [
        "R = [measure(rho) for rho in particuls]"
      ],
      "metadata": {
        "id": "2kgoyHA7Wn3F"
      },
      "execution_count": null,
      "outputs": []
    },
    {
      "cell_type": "code",
      "source": [
        "!pip install qutip"
      ],
      "metadata": {
        "colab": {
          "base_uri": "https://localhost:8080/"
        },
        "id": "8zAo_WH7ptMk",
        "outputId": "d00a586c-07c4-45fc-8c60-b261e7905274"
      },
      "execution_count": null,
      "outputs": [
        {
          "output_type": "stream",
          "name": "stdout",
          "text": [
            "Looking in indexes: https://pypi.org/simple, https://us-python.pkg.dev/colab-wheels/public/simple/\n",
            "Collecting qutip\n",
            "  Downloading qutip-4.7.1-cp38-cp38-manylinux_2_17_x86_64.manylinux2014_x86_64.whl (16.7 MB)\n",
            "\u001b[2K     \u001b[91m━━━━━━━━━━━━━━━━━━━\u001b[0m\u001b[91m╸\u001b[0m\u001b[90m━━━━━━━━━━━━━━━━━━━━\u001b[0m \u001b[32m8.2/16.7 MB\u001b[0m \u001b[31m76.6 MB/s\u001b[0m eta \u001b[36m0:00:01\u001b[0m\n",
            "\u001b[?25h\u001b[31mERROR: Operation cancelled by user\u001b[0m\u001b[31m\n",
            "\u001b[0m"
          ]
        }
      ]
    },
    {
      "cell_type": "code",
      "source": [
        "!pip install mayavi"
      ],
      "metadata": {
        "colab": {
          "base_uri": "https://localhost:8080/"
        },
        "id": "VvetG50trrtz",
        "outputId": "298ce486-dee1-4af2-fec7-d27c07e92363"
      },
      "execution_count": null,
      "outputs": [
        {
          "output_type": "stream",
          "name": "stdout",
          "text": [
            "Looking in indexes: https://pypi.org/simple, https://us-python.pkg.dev/colab-wheels/public/simple/\n",
            "\u001b[31mERROR: Operation cancelled by user\u001b[0m\u001b[31m\n",
            "\u001b[0m"
          ]
        }
      ]
    },
    {
      "cell_type": "markdown",
      "source": [
        "plots of the sampled particles used to perform the experiment"
      ],
      "metadata": {
        "id": "38PaLiYvZX6j"
      }
    },
    {
      "cell_type": "code",
      "source": [
        "import qutip\n",
        "#plot with color for weight visualisation\n",
        "import numpy as np\n",
        "import matplotlib.pyplot as plt\n",
        "import mpl_toolkits.mplot3d.axes3d as p3\n",
        "import matplotlib.animation as animation\n",
        " \n",
        "fig = plt.figure()\n",
        "\n",
        "N = len(particuls)\n",
        "# max = np.amax(weigths)\n",
        "\n",
        "b = qutip.Bloch()\n",
        "x, y, z = [], [], []\n",
        "# syntax for 3-D projection\n",
        "for i in range(N):\n",
        "  #c = ((1-weigths[i]/max),(1-weigths[i]/max), (1-weigths[i]/max))\n",
        "    c = (0,0,0)\n",
        "    p = measure(particuls[i])\n",
        "    z.append(p[2])\n",
        "    x.append(p[0])\n",
        "    y.append(p[1])\n",
        "  #ax.scatter(x, y, z, c = weights[i]*255*10)\n",
        "\n",
        "\n",
        "b.add_points([x,y,z])\n",
        "\n",
        "\n",
        "b.show()"
      ],
      "metadata": {
        "id": "HYPf_GcDWvIG",
        "colab": {
          "base_uri": "https://localhost:8080/",
          "height": 373
        },
        "outputId": "eec5fed3-25ea-479d-921f-db6c2d8b7477"
      },
      "execution_count": null,
      "outputs": [
        {
          "output_type": "error",
          "ename": "ModuleNotFoundError",
          "evalue": "ignored",
          "traceback": [
            "\u001b[0;31m---------------------------------------------------------------------------\u001b[0m",
            "\u001b[0;31mModuleNotFoundError\u001b[0m                       Traceback (most recent call last)",
            "\u001b[0;32m<ipython-input-91-4800032b7b3c>\u001b[0m in \u001b[0;36m<module>\u001b[0;34m\u001b[0m\n\u001b[0;32m----> 1\u001b[0;31m \u001b[0;32mimport\u001b[0m \u001b[0mqutip\u001b[0m\u001b[0;34m\u001b[0m\u001b[0;34m\u001b[0m\u001b[0m\n\u001b[0m\u001b[1;32m      2\u001b[0m \u001b[0;31m#plot with color for weight visualisation\u001b[0m\u001b[0;34m\u001b[0m\u001b[0;34m\u001b[0m\u001b[0;34m\u001b[0m\u001b[0m\n\u001b[1;32m      3\u001b[0m \u001b[0;32mimport\u001b[0m \u001b[0mnumpy\u001b[0m \u001b[0;32mas\u001b[0m \u001b[0mnp\u001b[0m\u001b[0;34m\u001b[0m\u001b[0;34m\u001b[0m\u001b[0m\n\u001b[1;32m      4\u001b[0m \u001b[0;32mimport\u001b[0m \u001b[0mmatplotlib\u001b[0m\u001b[0;34m.\u001b[0m\u001b[0mpyplot\u001b[0m \u001b[0;32mas\u001b[0m \u001b[0mplt\u001b[0m\u001b[0;34m\u001b[0m\u001b[0;34m\u001b[0m\u001b[0m\n\u001b[1;32m      5\u001b[0m \u001b[0;32mimport\u001b[0m \u001b[0mmpl_toolkits\u001b[0m\u001b[0;34m.\u001b[0m\u001b[0mmplot3d\u001b[0m\u001b[0;34m.\u001b[0m\u001b[0maxes3d\u001b[0m \u001b[0;32mas\u001b[0m \u001b[0mp3\u001b[0m\u001b[0;34m\u001b[0m\u001b[0;34m\u001b[0m\u001b[0m\n",
            "\u001b[0;31mModuleNotFoundError\u001b[0m: No module named 'qutip'",
            "",
            "\u001b[0;31m---------------------------------------------------------------------------\u001b[0;32m\nNOTE: If your import is failing due to a missing package, you can\nmanually install dependencies using either !pip or !apt.\n\nTo view examples of installing some common dependencies, click the\n\"Open Examples\" button below.\n\u001b[0;31m---------------------------------------------------------------------------\u001b[0m\n"
          ],
          "errorDetails": {
            "actions": [
              {
                "action": "open_url",
                "actionText": "Open Examples",
                "url": "/notebooks/snippets/importing_libraries.ipynb"
              }
            ]
          }
        }
      ]
    },
    {
      "cell_type": "code",
      "source": [
        "mean_state=np.matrix([[0.5,0.45],[0.45,0.5]])"
      ],
      "metadata": {
        "id": "4CcyXy7yW8kW"
      },
      "execution_count": null,
      "outputs": []
    },
    {
      "cell_type": "code",
      "source": [
        "#real mean fidelity around 0.9855157390463062"
      ],
      "metadata": {
        "id": "H96EBUG1eGOV"
      },
      "execution_count": null,
      "outputs": []
    },
    {
      "cell_type": "code",
      "source": [
        " #real variance of fidelity around 0.00017857252076685165"
      ],
      "metadata": {
        "id": "YOjJu8dye1xk"
      },
      "execution_count": null,
      "outputs": []
    },
    {
      "cell_type": "code",
      "source": [
        "mesur_list=[]\n",
        "k=-1\n",
        "for i in range(3):\n",
        "  if i==0:\n",
        "    for j in possible_values:\n",
        "      k=k+1\n",
        "      for m in range(e.Xsimulated[j]):\n",
        "        mesur_list.append(k)\n",
        "  if i==1:\n",
        "    for j in possible_values:\n",
        "      k=k+1\n",
        "      for m in range(e.Ysimulated[j]):\n",
        "        mesur_list.append(k)\n",
        "  if i==2:\n",
        "    for j in possible_values:\n",
        "      k=k+1\n",
        "      for m in range(e.Zsimulated[j]):\n",
        "        mesur_list.append(k)"
      ],
      "metadata": {
        "id": "wVky95gofwe1"
      },
      "execution_count": null,
      "outputs": []
    },
    {
      "cell_type": "markdown",
      "source": [
        "SMC"
      ],
      "metadata": {
        "id": "reN-Z6P4Zhw-"
      }
    },
    {
      "cell_type": "code",
      "source": [
        "toll=0.2\n",
        "n=500\n",
        "particuls,weights = Sequential_MC(n,list_mesure,mesur_list,toll)"
      ],
      "metadata": {
        "id": "s6D5RUT5fkvN"
      },
      "execution_count": null,
      "outputs": []
    },
    {
      "cell_type": "code",
      "source": [
        "order = np.argsort(weights)\n",
        "weight_ordered = [weights[k] for k in order]\n",
        "particul_ordered = [particuls[k] for k in order]"
      ],
      "metadata": {
        "id": "7dYz6dCkgDNM"
      },
      "execution_count": null,
      "outputs": []
    },
    {
      "cell_type": "code",
      "source": [
        "R = [measure(rho) for rho in particuls]"
      ],
      "metadata": {
        "id": "9zjcrgUxgDxE"
      },
      "execution_count": null,
      "outputs": []
    },
    {
      "cell_type": "code",
      "source": [
        "x=np.random.multinomial(1, [1/6.]*6)\n",
        "print(x)\n",
        "f=np.where(x>0)\n",
        "f[0][0]"
      ],
      "metadata": {
        "id": "uX88O7pwQrOk"
      },
      "execution_count": null,
      "outputs": []
    },
    {
      "cell_type": "code",
      "source": [
        "def fidelity_distr_posterior(weights,particuls,trials):\n",
        "  mean=0\n",
        "  for i in range(trials):\n",
        "    part_posterior=sample_posterior(weights,particuls)\n",
        "    part_distr=insightful_sampling_spherical(9,1,400,400,200,200)\n",
        "    mean=fidelity(part_posterior,part_distr)+mean\n",
        "  mean=mean/trials\n",
        "  return mean"
      ],
      "metadata": {
        "id": "jBVAIWS9PwQ9"
      },
      "execution_count": null,
      "outputs": []
    },
    {
      "cell_type": "code",
      "source": [
        "def mean_purity_post(weights,particuls):\n",
        "  length=len(particuls)\n",
        "  mean=0\n",
        "  for i in range(length):\n",
        "    mean=purity(particuls[i])*weights[i]+mean\n",
        "  return mean"
      ],
      "metadata": {
        "id": "SUi0FNqXVFba"
      },
      "execution_count": null,
      "outputs": []
    },
    {
      "cell_type": "markdown",
      "source": [
        "plot of the final distribution"
      ],
      "metadata": {
        "id": "AzkO0UEiZltP"
      }
    },
    {
      "cell_type": "code",
      "source": [
        "import qutip\n",
        "#plot with color for weight visualisation\n",
        "import numpy as np\n",
        "import matplotlib.pyplot as plt\n",
        "import mpl_toolkits.mplot3d.axes3d as p3\n",
        "import matplotlib.animation as animation\n",
        " \n",
        "fig = plt.figure()\n",
        "\n",
        "N = len(particuls)\n",
        "# max = np.amax(weigths)\n",
        "\n",
        "b = qutip.Bloch3d()\n",
        "x, y, z = [], [], []\n",
        "# syntax for 3-D projection\n",
        "for i in range(N):\n",
        "  #c = ((1-weigths[i]/max),(1-weigths[i]/max), (1-weigths[i]/max))\n",
        "    c = (0,0,0)\n",
        "    p = measure(particuls[i])\n",
        "    z.append(p[2])\n",
        "    x.append(p[0])\n",
        "    y.append(p[1])\n",
        "  #ax.scatter(x, y, z, c = weights[i]*255*10)\n",
        "\n",
        "\n",
        "b.add_points([x,y,z],alpha=1)\n",
        "b.point_color=['#3a7cbd']\n",
        "b.point_size=0.035\n",
        "\n",
        "\n",
        "\n",
        "b.show()"
      ],
      "metadata": {
        "id": "CQljmuU_gr6k"
      },
      "execution_count": null,
      "outputs": []
    },
    {
      "cell_type": "markdown",
      "source": [
        "purity of the true distribution and of the posterior"
      ],
      "metadata": {
        "id": "mTfvBI91Zv9X"
      }
    },
    {
      "cell_type": "code",
      "source": [
        "pur_distr=mean_purity_distr(10000)\n",
        "pur_distr"
      ],
      "metadata": {
        "id": "Ca8il89mWaOj"
      },
      "execution_count": null,
      "outputs": []
    },
    {
      "cell_type": "code",
      "source": [
        "pur_post=mean_purity_post(weights,particuls)\n",
        "pur_post"
      ],
      "metadata": {
        "id": "RzMgkQoHXI4C"
      },
      "execution_count": null,
      "outputs": []
    },
    {
      "cell_type": "code",
      "source": [
        "m=fidelity_distr_posterior(weights,particuls,10000)\n",
        "m"
      ],
      "metadata": {
        "id": "X2BcSd4OTBh8"
      },
      "execution_count": null,
      "outputs": []
    },
    {
      "cell_type": "markdown",
      "source": [
        "###TWO QUBITS CASE"
      ],
      "metadata": {
        "id": "seqvTeOQ-flF"
      }
    },
    {
      "cell_type": "code",
      "source": [
        "H=np.matrix([[1/np.sqrt(2),1/np.sqrt(2)],[1/np.sqrt(2),-1/np.sqrt(2)]])\n",
        "U=np.matrix([[1/np.sqrt(2),-1j/np.sqrt(2)],[1/np.sqrt(2),1j/np.sqrt(2)]])\n",
        "I=np.matrix(np.eye(2))"
      ],
      "metadata": {
        "id": "k_Sn2AGruhYp"
      },
      "execution_count": null,
      "outputs": []
    },
    {
      "cell_type": "code",
      "source": [
        "operators=[np.matrix(TensorProduct(H,H)),np.matrix(TensorProduct(U,H)),np.matrix(TensorProduct(H,U)),np.matrix(TensorProduct(U,U)),np.matrix(TensorProduct(I,I))]"
      ],
      "metadata": {
        "id": "X4Oud8bsviYq"
      },
      "execution_count": null,
      "outputs": []
    },
    {
      "cell_type": "code",
      "source": [
        "Id = np.matrix([[1 , 0],[0 , 1]])\n",
        "sx = np.matrix([[0 , 1] , [1 , 0]])\n",
        "sy = np.matrix([[0 , -1j] , [1j , 0]])\n",
        "sz = np.matrix([[1,0] , [0,-1]])\n",
        "pauli_1Q=[Id,sx,sy,sz]"
      ],
      "metadata": {
        "id": "9YCwvI2Syh-t"
      },
      "execution_count": null,
      "outputs": []
    },
    {
      "cell_type": "code",
      "source": [
        "pauli_1Q=[Id,sx,sy,sz]"
      ],
      "metadata": {
        "id": "Vn8Rz0Kpa2uu"
      },
      "execution_count": null,
      "outputs": []
    },
    {
      "cell_type": "markdown",
      "source": [
        "create 4D operators by taking the tensor product of the pauli matrices"
      ],
      "metadata": {
        "id": "89F6gphAZ962"
      }
    },
    {
      "cell_type": "code",
      "execution_count": null,
      "metadata": {
        "id": "WkWfHcY3aLLO"
      },
      "outputs": [],
      "source": [
        "ang_coor=[0]*15\n",
        "pauli_2Q=[]\n",
        "for i in range(4):\n",
        "  for j in range(4):\n",
        "    pauli_2Q.append(np.matrix(TensorProduct(pauli_1Q[i],pauli_1Q[j])))"
      ]
    },
    {
      "cell_type": "markdown",
      "source": [
        "generate a random quantum state"
      ],
      "metadata": {
        "id": "DfgqkQjpaPw2"
      }
    },
    {
      "cell_type": "markdown",
      "source": [
        "this part of the code must be used after having run the general functions with 2 qubits"
      ],
      "metadata": {
        "id": "xM3VXd3-iPAO"
      }
    },
    {
      "cell_type": "code",
      "source": [
        "def generate():\n",
        "  for i in range(13):\n",
        "    ang_coor[i]=math.pi*np.random.beta(200,200)\n",
        "  ang_coor[13]=2*math.pi*np.random.beta(400,400)\n",
        "\n",
        "  rho=np.random.beta(9,1)\n",
        "  coor=[rho]*15\n",
        "  for i in range(14):\n",
        "    for j in range(i+1):\n",
        "      if(i==j):\n",
        "        coor[i]=coor[i]*math.cos(ang_coor[j])\n",
        "      else:\n",
        "        coor[i]=coor[i]*math.sin(ang_coor[j])\n",
        "\n",
        "  for i in range(14):\n",
        "    coor[14]=coor[14]*math.sin(ang_coor[i])\n",
        "\n",
        "  state=pauli_2Q[0]\n",
        "  for i in range(15):\n",
        "    state=state+coor[i]*pauli_2Q[i+1]\n",
        "  state=state/4\n",
        "  return state\n"
      ],
      "metadata": {
        "id": "KoivcyH3cyYN"
      },
      "execution_count": null,
      "outputs": []
    },
    {
      "cell_type": "code",
      "source": [
        "def fidelity_distr_posterior(weights,particuls,trials):\n",
        "  mean=0\n",
        "  for i in range(trials):\n",
        "    part_posterior=sample_posterior(weights,particuls)\n",
        "    part_distr=generate()\n",
        "    mean=fidelity(part_posterior,part_distr)+mean\n",
        "  mean=mean/trials\n",
        "  return mean"
      ],
      "metadata": {
        "id": "VlrTsPImCAk8"
      },
      "execution_count": null,
      "outputs": []
    },
    {
      "cell_type": "code",
      "source": [
        "def measure(state):\n",
        "  prob=[0]*4\n",
        "  for i in range(3):\n",
        "    prob[i]=np.real(state[i,i])\n",
        "  prob[3]=1-prob[0]-prob[1]-prob[2]\n",
        "  return  np.random.multinomial(1,prob)"
      ],
      "metadata": {
        "id": "aAayU7DhxwQB"
      },
      "execution_count": null,
      "outputs": []
    },
    {
      "cell_type": "code",
      "source": [
        "pos=dict()\n",
        "pos[0]=\"00\"\n",
        "pos[1]=\"01\"\n",
        "pos[2]=\"10\"\n",
        "pos[3]=\"11\"\n",
        "\n",
        "\n",
        "\n",
        "\n",
        "\n",
        "exp=dict()\n",
        "exp[\"00\"]=0\n",
        "exp[\"01\"]=0\n",
        "exp[\"10\"]=0\n",
        "exp[\"11\"]=0"
      ],
      "metadata": {
        "id": "96QbBHrrzNgI"
      },
      "execution_count": null,
      "outputs": []
    },
    {
      "cell_type": "code",
      "source": [
        "\n",
        "def experiment():\n",
        "  state=generate()\n",
        "  results=[]\n",
        "  for i in range(5):\n",
        "    T_state=np.matmul(operators[i],np.matmul(state,operators[i].H))\n",
        "    x=measure(T_state)\n",
        "    results.append(x)\n",
        "  return results\n"
      ],
      "metadata": {
        "id": "ORvKaHMZy7bZ"
      },
      "execution_count": null,
      "outputs": []
    },
    {
      "cell_type": "code",
      "source": [
        "class random_experiments():\n",
        "  def __init__(self,n):\n",
        "    self.n=n\n",
        "    self.simulated=[exp.copy() for i in range(5)]\n",
        "\n",
        "    for j in range(self.n):\n",
        "      result=experiment()\n",
        "      for i in range(5):\n",
        "          self.simulated[i][pos[np.where(result[i]>0)[0][0]]]=self.simulated[i][pos[np.where(result[i]>0)[0][0]]]+1"
      ],
      "metadata": {
        "id": "O8JCTM4I6PEI"
      },
      "execution_count": null,
      "outputs": []
    },
    {
      "cell_type": "code",
      "source": [
        "ex1=random_experiments(1000)"
      ],
      "metadata": {
        "id": "U6_ps19g9haV"
      },
      "execution_count": null,
      "outputs": []
    },
    {
      "cell_type": "code",
      "source": [
        "ex1.simulated"
      ],
      "metadata": {
        "colab": {
          "base_uri": "https://localhost:8080/"
        },
        "id": "TDX3tC7c_d0L",
        "outputId": "ecf9bde8-8421-4aad-9f62-645d5578def9"
      },
      "execution_count": null,
      "outputs": [
        {
          "output_type": "execute_result",
          "data": {
            "text/plain": [
              "[{'00': 241, '01': 271, '10': 233, '11': 255},\n",
              " {'00': 243, '01': 267, '10': 255, '11': 235},\n",
              " {'00': 246, '01': 251, '10': 243, '11': 260},\n",
              " {'00': 227, '01': 270, '10': 257, '11': 246},\n",
              " {'00': 257, '01': 221, '10': 264, '11': 258}]"
            ]
          },
          "metadata": {},
          "execution_count": 138
        }
      ]
    },
    {
      "cell_type": "code",
      "source": [
        "mesur_list=[]\n",
        "k=-1\n",
        "for i in range(2**number_of_qubits+1):\n",
        "    for j in possible_values:\n",
        "      k=k+1\n",
        "      for m in range(ex1.simulated[i][j]):\n",
        "        mesur_list.append(k)"
      ],
      "metadata": {
        "id": "t9Cv_3ntAjK6"
      },
      "execution_count": null,
      "outputs": []
    },
    {
      "cell_type": "code",
      "source": [
        "toll=0\n",
        "n=5000\n",
        "particuls,weights = Sequential_MC(n,list_mesure,mesur_list,toll)"
      ],
      "metadata": {
        "id": "qHaR6tQzBOwk"
      },
      "execution_count": null,
      "outputs": []
    },
    {
      "cell_type": "code",
      "source": [
        "m=fidelity_distr_posterior(weights,particuls,10000)\n",
        "m"
      ],
      "metadata": {
        "id": "uk5JEccxBg80",
        "colab": {
          "base_uri": "https://localhost:8080/"
        },
        "outputId": "7812c3b4-c89a-4270-d4d5-11f67367ad3f"
      },
      "execution_count": null,
      "outputs": [
        {
          "output_type": "execute_result",
          "data": {
            "text/plain": [
              "0.5956630174130433"
            ]
          },
          "metadata": {},
          "execution_count": 41
        }
      ]
    },
    {
      "cell_type": "markdown",
      "source": [
        "4D operators requires 16 paramethers, we can't plot them easily on the sphere. To ease visualization we plot the partial trace"
      ],
      "metadata": {
        "id": "P2qTs7xSaoC_"
      }
    },
    {
      "cell_type": "code",
      "source": [
        "def partial_trace(state):\n",
        "  S=np.matrix([[0+1j*0,0+1j*0],[0+1j*0,0+1j*0]])\n",
        "  S[0,0]=state[0,0]+state[1,1]\n",
        "  S[0,1]=state[0,2]+state[1,3]\n",
        "  S[1,0]=state[2,0]+state[3,1]\n",
        "  S[1,1]=state[2,2]+state[3,3]\n",
        "  return S"
      ],
      "metadata": {
        "id": "Mf2un7VXZaDB"
      },
      "execution_count": null,
      "outputs": []
    },
    {
      "cell_type": "code",
      "source": [
        "def partial_trace_1(state):\n",
        "    S=np.matrix([[0+1j*0,0+1j*0],[0+1j*0,0+1j*0]])\n",
        "    S[0,0]=state[0,0]+state[2,2]\n",
        "    S[0,1]=state[0,1]+state[2,3]\n",
        "    S[1,0]=state[1,0]+state[3,2]\n",
        "    S[1,1]=state[1,1]+state[3,3]\n",
        "    return S"
      ],
      "metadata": {
        "id": "7RNSW2RMhhzJ"
      },
      "execution_count": null,
      "outputs": []
    },
    {
      "cell_type": "code",
      "source": [
        "p_trace = [partial_trace(i) for i in particuls]"
      ],
      "metadata": {
        "id": "tRKF6gd_9sKG"
      },
      "execution_count": null,
      "outputs": []
    },
    {
      "cell_type": "code",
      "source": [
        "def measure(ρ):\n",
        "    Id = np.matrix([[1 , 0],[0 , 1]])\n",
        "    sx = np.matrix([[0 , 1] , [1 , 0]])\n",
        "    sy = np.matrix([[0 , -1j] , [1j , 0]])\n",
        "    sz = np.matrix([[1,0] , [0,-1]])    \n",
        "    x = np.trace(np.dot(ρ, sx)).real\n",
        "    y = np.trace(np.dot(ρ, sy)).real\n",
        "    z = np.trace(np.dot(ρ, sz)).real\n",
        "    return [x, y, z]"
      ],
      "metadata": {
        "id": "-IoPZw-U91vG"
      },
      "execution_count": null,
      "outputs": []
    },
    {
      "cell_type": "code",
      "source": [
        "import qutip\n",
        "#plot with color for weight visualisation\n",
        "import numpy as np\n",
        "import matplotlib.pyplot as plt\n",
        "import mpl_toolkits.mplot3d.axes3d as p3\n",
        "import matplotlib.animation as animation\n",
        " \n",
        "fig = plt.figure()\n",
        "\n",
        "N = len(particuls)\n",
        "# max = np.amax(weigths)\n",
        "\n",
        "b = qutip.Bloch3d()\n",
        "x, y, z = [], [], []\n",
        "# syntax for 3-D projection\n",
        "for i in range(N):\n",
        "  #c = ((1-weigths[i]/max),(1-weigths[i]/max), (1-weigths[i]/max))\n",
        "    c = (0,0,0)\n",
        "    p = measure(p_trace[i])\n",
        "    z.append(p[2])\n",
        "    x.append(p[0])\n",
        "    y.append(p[1])\n",
        "  #ax.scatter(x, y, z, c = weights[i]*255*10)\n",
        "\n",
        "\n",
        "b.add_points([x,y,z],alpha=1)\n",
        "b.point_color=['#3a7cbd']\n",
        "b.point_size=0.035\n",
        "\n",
        "\n",
        "\n",
        "b.show()"
      ],
      "metadata": {
        "id": "VgIjgeGicl8H",
        "colab": {
          "base_uri": "https://localhost:8080/"
        },
        "outputId": "e9701a22-4120-4622-c566-4fc88ce8de30"
      },
      "execution_count": null,
      "outputs": [
        {
          "output_type": "error",
          "ename": "ModuleNotFoundError",
          "evalue": "ignored",
          "traceback": [
            "\u001b[0;31m---------------------------------------------------------------------------\u001b[0m",
            "\u001b[0;31mModuleNotFoundError\u001b[0m                       Traceback (most recent call last)",
            "\u001b[0;32m<ipython-input-43-149f301c39a6>\u001b[0m in \u001b[0;36m<module>\u001b[0;34m\u001b[0m\n\u001b[1;32m      1\u001b[0m \u001b[0;32mimport\u001b[0m \u001b[0mnumpy\u001b[0m \u001b[0;32mas\u001b[0m \u001b[0mnp\u001b[0m\u001b[0;34m\u001b[0m\u001b[0;34m\u001b[0m\u001b[0m\n\u001b[1;32m      2\u001b[0m \u001b[0;32mimport\u001b[0m \u001b[0mmatplotlib\u001b[0m\u001b[0;34m.\u001b[0m\u001b[0mpyplot\u001b[0m \u001b[0;32mas\u001b[0m \u001b[0mplt\u001b[0m\u001b[0;34m\u001b[0m\u001b[0;34m\u001b[0m\u001b[0m\n\u001b[0;32m----> 3\u001b[0;31m \u001b[0;32mfrom\u001b[0m \u001b[0mskspatial\u001b[0m\u001b[0;34m.\u001b[0m\u001b[0mobjects\u001b[0m \u001b[0;32mimport\u001b[0m \u001b[0mSphere\u001b[0m\u001b[0;34m\u001b[0m\u001b[0;34m\u001b[0m\u001b[0m\n\u001b[0m\u001b[1;32m      4\u001b[0m \u001b[0;31m# import mpl_toolkits.mplot3d.axes3d as p3\u001b[0m\u001b[0;34m\u001b[0m\u001b[0;34m\u001b[0m\u001b[0;34m\u001b[0m\u001b[0m\n\u001b[1;32m      5\u001b[0m \u001b[0;31m# import matplotlib.animation as animation\u001b[0m\u001b[0;34m\u001b[0m\u001b[0;34m\u001b[0m\u001b[0;34m\u001b[0m\u001b[0m\n",
            "\u001b[0;31mModuleNotFoundError\u001b[0m: No module named 'skspatial'",
            "",
            "\u001b[0;31m---------------------------------------------------------------------------\u001b[0;32m\nNOTE: If your import is failing due to a missing package, you can\nmanually install dependencies using either !pip or !apt.\n\nTo view examples of installing some common dependencies, click the\n\"Open Examples\" button below.\n\u001b[0;31m---------------------------------------------------------------------------\u001b[0m\n"
          ],
          "errorDetails": {
            "actions": [
              {
                "action": "open_url",
                "actionText": "Open Examples",
                "url": "/notebooks/snippets/importing_libraries.ipynb"
              }
            ]
          }
        }
      ]
    }
  ],
  "metadata": {
    "colab": {
      "provenance": [],
      "collapsed_sections": [
        "gyu3Mjq97Fn4",
        "99HJTs6fS1fQ",
        "nccFhYedfHrE",
        "seqvTeOQ-flF"
      ]
    },
    "kernelspec": {
      "display_name": "Python 3 (ipykernel)",
      "language": "python",
      "name": "python3"
    },
    "language_info": {
      "codemirror_mode": {
        "name": "ipython",
        "version": 3
      },
      "file_extension": ".py",
      "mimetype": "text/x-python",
      "name": "python",
      "nbconvert_exporter": "python",
      "pygments_lexer": "ipython3",
      "version": "3.9.12"
    }
  },
  "nbformat": 4,
  "nbformat_minor": 0
}