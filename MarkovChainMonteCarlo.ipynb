{
 "cells": [
  {
   "cell_type": "markdown",
   "metadata": {
    "id": "sP0W1k7Zdq__"
   },
   "source": [
    "## Packages"
   ]
  },
  {
   "cell_type": "code",
   "execution_count": 1,
   "metadata": {
    "executionInfo": {
     "elapsed": 3262,
     "status": "ok",
     "timestamp": 1676312301231,
     "user": {
      "displayName": "Valentin Lacombe",
      "userId": "15451113006535120221"
     },
     "user_tz": -60
    },
    "id": "xX2s4GzjIAa9"
   },
   "outputs": [],
   "source": [
    "import numpy as np\n",
    "import os\n",
    "import random\n",
    "import pandas as pd\n",
    "import seaborn as sns\n",
    "import tqdm\n",
    "\n",
    "import pandas as pd\n",
    "from statsmodels.graphics.tsaplots import plot_acf\n",
    "\n",
    "import matplotlib.pyplot as plt\n",
    "%matplotlib inline\n",
    "\n",
    "import numpy.linalg\n",
    "\n",
    "import time\n",
    "import math\n",
    "from sympy import Matrix\n",
    "from sympy.physics.quantum import TensorProduct"
   ]
  },
  {
   "cell_type": "markdown",
   "metadata": {
    "id": "NcsagXtTIWUu"
   },
   "source": [
    "## MCMC Silmulation part for a single Q-bit"
   ]
  },
  {
   "cell_type": "markdown",
   "metadata": {
    "id": "kdft0mdtLE1K"
   },
   "source": [
    "### Pure states"
   ]
  },
  {
   "cell_type": "code",
   "execution_count": 2,
   "metadata": {
    "id": "ec0fc9fb"
   },
   "outputs": [],
   "source": [
    "def facto(n):\n",
    "    if n == 0 or n==1:\n",
    "        return 1\n",
    "    else:\n",
    "        return n * facto(n-1)\n",
    "\n",
    "def Likelyhood_multi_ratio(r_1,r_2, list_Mesure, list_instance): #r_1 would be the proposed state, and r_2 the initial one\n",
    "    prod = 1\n",
    "    N = len(list_instance)\n",
    "    sx = np.matrix([[0 , 1] , [1 , 0]]) # introduction of Bloch matrix in order to pass from r to rho\n",
    "    sy = np.matrix([[0 , -1j] , [1j , 0]])\n",
    "    sz = np.matrix([[1,0] , [0,-1]])\n",
    "    s = [sx, sy, sz]\n",
    "    rho_1 = np.matrix([[1 , 0],[0 , 1]])/2 + r_1[0]*sx /2 + r_1[1]*sy/2 + r_1[2]*sz/2 \n",
    "    rho_2 = np.matrix([[1 , 0],[0 , 1]])/2 + r_2[0]*sx /2 + r_2[1]*sy/2 + r_2[2]*sz/2 \n",
    "    for i in range(0, N, 2): # mesurement are gouped by 2 for each configuration\n",
    "        ng0 = list_instance[i]\n",
    "        ng1 = list_instance[i+1]\n",
    "        prod *= (np.trace(rho_1 @ list_Mesure[i]) / np.trace(rho_2 @ list_Mesure[i]) ) **  ng0 *  (np.trace(rho_1 @ list_Mesure[i+1]) / np.trace(rho_2 @ list_Mesure[i+1]) ) **ng1\n",
    "    return prod\n",
    "\n",
    "def MCMC_multi( list_Mesure, list_instance, N, var, r0 ):\n",
    "    parcour = [ [0,0,0] for k in range(N)]\n",
    "    r = r0/np.linalg.norm(r0, ord=None, axis=None, keepdims=False)\n",
    "    Acceptance_count = 0 # to count in the end the acceptance rate\n",
    "    for i in range(N):\n",
    "        parcour[i] = r # at each iteration I store the vector r\n",
    "        dr = np.random.normal(loc=0.0, scale=var, size=(1,3)) # infenitisimal shift\n",
    "        r2 = r + dr[0] # I need to put dr[0] to conserve the array shape, indeed dr is a matrix(1,3)\n",
    "        r2 = r2/np.linalg.norm(r2, ord=None, axis=None, keepdims=False)\n",
    "        ratio = Likelyhood_multi_ratio(r2,r, list_Mesure, list_instance)\n",
    "        U = np.random.uniform(low=0.0, high=1.0, size=None)\n",
    "        if U < ratio:  #I shift the position according to the MH algorithm\n",
    "            r = r2\n",
    "            Acceptance_count += 1\n",
    "    return parcour, Acceptance_count/N"
   ]
  },
  {
   "cell_type": "code",
   "execution_count": 3,
   "metadata": {
    "id": "Im5JIDTdJ2nI"
   },
   "outputs": [],
   "source": [
    "import qutip\n",
    "import mayavi\n",
    "import mpl_toolkits.mplot3d.axes3d as p3\n",
    "import matplotlib.animation as animation\n",
    "\n",
    "def proposed_state_visualisation_pure(r0, var, N):\n",
    "    parcour = [ [0,0,0] for k in range(N)]\n",
    "    for i in range(N):\n",
    "        dr = np.random.normal(loc=0.0, scale=var, size=(1,3)) # infenitisimal shift\n",
    "        r = r0 + dr[0] #r0 shifted\n",
    "        r = r/np.linalg.norm(r, ord=None, axis=None, keepdims=False)\n",
    "        parcour[i] = r #add the proposed state to the list\n",
    "    b = qutip.Bloch3d()\n",
    "    xlist = [np.float32(parcour[i][0]) for i in range(N)]\n",
    "    ylist = [np.float32(parcour[i][1]) for i in range(N)]\n",
    "    zlist = [np.float32(parcour[i][2]) for i in range(N)]\n",
    "    b.add_points([xlist, ylist, zlist]) # proposed states on the bloch sphere\n",
    "    b.point_color=['#3a7cbd']\n",
    "    b.point_size=0.035\n",
    "    b.add_vectors(r0)\n",
    "    b.vector_color=['grey']\n",
    "    b.show() #plot"
   ]
  },
  {
   "cell_type": "code",
   "execution_count": 11,
   "metadata": {
    "id": "YnjsvtgiJ2nI"
   },
   "outputs": [],
   "source": [
    "proposed_state_visualisation_pure([0.,1.,0.] , 0.3 , 1000)\n"
   ]
  },
  {
   "cell_type": "markdown",
   "metadata": {
    "id": "l1zQ2uS4LZB4"
   },
   "source": [
    "### Mixed states"
   ]
  },
  {
   "cell_type": "code",
   "execution_count": 3,
   "metadata": {
    "id": "DU2sJgviLeYo"
   },
   "outputs": [],
   "source": [
    "def facto(n):\n",
    "    if n == 0 or n==1:\n",
    "        return 1\n",
    "    else:\n",
    "        return n * facto(n-1)\n",
    "\n",
    "def Likelyhood_multi_ratio(r_1,r_2, list_Mesure, list_instance): #r_1 would be the proposed state, and r_2 the initial one\n",
    "    prod = 1\n",
    "    N = len(list_instance)\n",
    "    sx = np.matrix([[0 , 1] , [1 , 0]]) # introduction of Bloch matrix in order to pass from r to rho\n",
    "    sy = np.matrix([[0 , -1j] , [1j , 0]])\n",
    "    sz = np.matrix([[1,0] , [0,-1]])\n",
    "    s = [sx, sy, sz]\n",
    "    rho_1 = np.matrix([[1 , 0],[0 , 1]])/2 + r_1[0]*sx /2 + r_1[1]*sy/2 + r_1[2]*sz/2 \n",
    "    rho_2 = np.matrix([[1 , 0],[0 , 1]])/2 + r_2[0]*sx /2 + r_2[1]*sy/2 + r_2[2]*sz/2 \n",
    "    for i in range(0, N, 2): # mesurement are gouped by 2 for each configuration\n",
    "        ng0 = list_instance[i]\n",
    "        ng1 = list_instance[i+1]\n",
    "        prod *= (np.trace(rho_1 @ list_Mesure[i]) / np.trace(rho_2 @ list_Mesure[i]) ) **  ng0 *  (np.trace(rho_1 @ list_Mesure[i+1]) / np.trace(rho_2 @ list_Mesure[i+1]) ) **ng1\n",
    "    return prod\n",
    "\n",
    "def MCMC_multi( list_Mesure, list_instance, N, var, r0):\n",
    "    parcour = [ [0,0,0] for k in range(N)]\n",
    "    r = r0\n",
    "    Acceptance_count = 0 # to count in the end the acceptance rate\n",
    "    for i in range(N):\n",
    "        parcour[i] = r # at each iteration I store the vector r\n",
    "        dr = np.random.normal(loc=0.0, scale=var, size=(1,3)) # infenitisimal shift\n",
    "        r2 = r + dr[0] # I need to put dr[0] to conserve the array shape, indeed dr is a matrix(1,3)\n",
    "        while np.linalg.norm(r2, ord=None, axis=None, keepdims=False)>1:  #as long as we don't have a valide state, we resample a proposed state\n",
    "          dr = np.random.normal(loc=0.0, scale=var, size=(1,3))\n",
    "          r2 = r + dr[0]\n",
    "        ratio = Likelyhood_multi_ratio(r2,r, list_Mesure, list_instance)\n",
    "        U = np.random.uniform(low=0.0, high=1.0, size=None)\n",
    "        if U < ratio:  #I shift the position according to the MH algorithm\n",
    "            r = r2\n",
    "            Acceptance_count += 1\n",
    "    return parcour, Acceptance_count/N"
   ]
  },
  {
   "cell_type": "markdown",
   "metadata": {
    "id": "zfC4p0Q7ABvN"
   },
   "source": [
    "####Proposed state plot"
   ]
  },
  {
   "cell_type": "code",
   "execution_count": 13,
   "metadata": {
    "id": "VAJ2uG7BPobb"
   },
   "outputs": [],
   "source": [
    "import qutip\n",
    "\n",
    "def proposed_state_visualisation(r0, var, N):\n",
    "    parcour = [ [0,0,0] for k in range(N)]\n",
    "    for i in range(N):\n",
    "        dr = np.random.normal(loc=0.0, scale=var, size=(1,3)) # infenitisimal shift\n",
    "        r = r0 + dr[0] #r0 shifted\n",
    "        r = r/( max(np.linalg.norm(r, ord=None, axis=None, keepdims=False), 1) )\n",
    "        parcour[i] = r #add the proposed state to the list\n",
    "    b = qutip.Bloch3d()\n",
    "    xlist = [parcour[i][0] for i in range(N)]\n",
    "    ylist = [parcour[i][1] for i in range(N)]\n",
    "    zlist = [parcour[i][2] for i in range(N)]\n",
    "    b.add_points([xlist, ylist, zlist]) # proposed states on the bloch sphere\n",
    "    b.point_color=['#3a7cbd']\n",
    "    b.point_size=0.035\n",
    "    b.add_vectors(r0)\n",
    "    b.vector_color=['grey']\n",
    "    b.show() #plot\n"
   ]
  },
  {
   "cell_type": "code",
   "execution_count": 14,
   "metadata": {
    "id": "amAhKhn2SQmW"
   },
   "outputs": [],
   "source": [
    "proposed_state_visualisation([0.9,0.,0.] , 0.1 , 500)"
   ]
  },
  {
   "cell_type": "markdown",
   "metadata": {
    "id": "-1NJDeVFN0dD"
   },
   "source": [
    "### Example and plot"
   ]
  },
  {
   "cell_type": "code",
   "execution_count": 4,
   "metadata": {
    "id": "XBDHE3HBKz81"
   },
   "outputs": [],
   "source": [
    "# x, y, z\n",
    "ex1 = [{'0': 75, '1': 0}, {'0': 29, '1': 46}, {'1': 35, '0': 40}]\n",
    "# outcomes = [0] * ex1[0]['0'] + [1] * ex1[0]['1'] + [2] * ex1[1]['0'] + [3] * ex1[1]['1'] + [4] * ex1[2]['0'] + [5] * ex1[2]['1']\n",
    "\n",
    "S0 = np.array([[1],[0]])\n",
    "S1 = np.array([[0],[1]])\n",
    "\n",
    "Rho0 = S0 @ S0.T\n",
    "Rho1 = S1 @ S1.T\n",
    "\n",
    "\n",
    "E0 = np.matrix([[1 , 0],[0 , 0]])\n",
    "E1 = np.matrix([[0 , 0],[0 , 1]])\n",
    "\n",
    "H = 1/np.sqrt(2) * np.matrix([[1 , 1],[1 , -1]])\n",
    "H0 = H @ S0 @ S0.T @ H.H\n",
    "H1 = H @ S1 @ S1.T @ H.H\n",
    "\n",
    "\n",
    "U = 1/np.sqrt(2) * np.matrix([[1 , -1j],[1 , 1j]])\n",
    "U0 = np.linalg.inv(U) @ S0 @ S0.T @ np.linalg.inv(U).H\n",
    "U1 = np.linalg.inv(U) @ S1 @ S1.T @ np.linalg.inv(U).H"
   ]
  },
  {
   "cell_type": "code",
   "execution_count": null,
   "metadata": {
    "id": "Ewoltji8gkSD"
   },
   "outputs": [],
   "source": [
    "#!pip install qiskit\n",
    "from qiskit import *\n",
    "from qiskit.tools.monitor import job_monitor\n",
    "from numpy import pi\n",
    "from qiskit import Aer\n",
    "from qiskit.circuit.random import random_circuit\n",
    "import qiskit.quantum_info as qi\n",
    "\n",
    "number_of_qubits=1\n",
    "\n",
    "class experiments():\n",
    "    def __init__(self,n_of_shots,n_of_qubits,real=0,random=0):\n",
    "        self.n_of_shots=n_of_shots\n",
    "        self.n_of_qubits=n_of_qubits\n",
    "        self.random=random\n",
    "        self.operators=[]\n",
    "        self.real_state=0\n",
    "        \n",
    "        self.shots=n_of_shots\n",
    "        if real==0:\n",
    "            self.simulated=[0]*(2**n_of_qubits+1)\n",
    "            for i in range(2**n_of_qubits+1):\n",
    "              self.simulate(i)\n",
    "        if real==1:\n",
    "            self.res=[0]*(2**n_of_qubits+1)\n",
    "            for i in range(2**n_of_qubits+1):\n",
    "              self.rl(i)\n",
    "        \n",
    "    def simulate(self,op_number):\n",
    "        qr=QuantumRegister(self.n_of_qubits)\n",
    "        cr=ClassicalRegister(self.n_of_qubits)\n",
    "        circuit=QuantumCircuit(qr,cr)\n",
    "\n",
    "        self.real_state=np.matrix([[1 if i==j==0 else 0 for i in range(2**self.n_of_qubits)] for j in range(2**self.n_of_qubits)])\n",
    "        for i in range(self.n_of_qubits):\n",
    "            circuit.h(qr[i])\n",
    "            circuit.barrier(qr[i])\n",
    "        \n",
    "        self.real_state=np.matmul(np.matrix(qi.Operator(circuit)),np.matmul(self.real_state,np.matrix(qi.Operator(circuit)).H))\n",
    "        if self.random==0:\n",
    "            qr1=QuantumRegister(self.n_of_qubits)\n",
    "            cr1=ClassicalRegister(self.n_of_qubits)\n",
    "            circuit1=QuantumCircuit(qr1,cr1)\n",
    "                \n",
    "            if op_number<2**self.n_of_qubits:\n",
    "                for i in range(self.n_of_qubits):\n",
    "                  if(vec[op_number][i]==\"0\"):\n",
    "                      circuit.h(qr[i])\n",
    "                      circuit1.h(qr1[i])\n",
    "                  else:\n",
    "                      circuit1.u(pi / 2, 0, pi / 2, qr1[i])\n",
    "                      circuit.u(pi / 2, 0, pi / 2, qr[i])\n",
    "                self.operators.append(qi.Operator(circuit1))\n",
    "                \n",
    "            else:\n",
    "                self.operators.append(qi.Operator(circuit1))\n",
    "\n",
    "        \n",
    "        else:\n",
    "            circuit1=random_circuit(self.n_of_qubits, 3,3)\n",
    "            self.operators.append(qi.Operator(circuit1))\n",
    "            circuit.compose(circuit1,inplace=True)\n",
    "            \n",
    "        circuit.measure(qr,cr)\n",
    "\n",
    "        simulator=Aer.get_backend(\"qasm_simulator\")\n",
    "        result=execute(circuit,backend=simulator,shots=self.shots).result()\n",
    "        self.simulated[op_number]=result.get_counts(circuit)\n",
    "        \n",
    "    def rl(self,op_number):\n",
    "        qr=QuantumRegister(self.n_of_qubits)\n",
    "        cr=ClassicalRegister(self.n_of_qubits)\n",
    "        circuit=QuantumCircuit(qr,cr)\n",
    "        \n",
    "        for i in range(self.n_of_qubits):\n",
    "            circuit.h(qr[i])\n",
    "            circuit.barrier(qr[i])\n",
    "        \n",
    "        if self.random==0:\n",
    "            qr1=QuantumRegister(self.n_of_qubits)\n",
    "            cr1=ClassicalRegister(self.n_of_qubits)\n",
    "            circuit1=QuantumCircuit(qr1,cr1)\n",
    "                \n",
    "            if op_number<2**self.n_of_qubits:\n",
    "                for i in range(self.n_of_qubits):\n",
    "                  if(vec[op_number][i]==\"0\"):\n",
    "                      circuit.h(qr[i])\n",
    "                      circuit1.h(qr1[i])\n",
    "                  else:\n",
    "                      circuit1.u(pi / 2, 0, pi / 2, qr1[i])\n",
    "                      circuit.u(pi / 2, 0, pi / 2, qr[i])\n",
    "                self.operators.append(qi.Operator(circuit1))\n",
    "                \n",
    "            else:\n",
    "                self.operators.append(qi.Operator(circuit1))\n",
    "\n",
    "        \n",
    "        else:\n",
    "            circuit1=random_circuit(self.n_of_qubits, 3,3)\n",
    "            self.operators.append(qi.Operator(circuit1))\n",
    "            circuit.compose(circuit1,inplace=True)\n",
    "            \n",
    "        circuit.measure(qr,cr)\n",
    "        \n",
    "        IBMQ.load_account()\n",
    "        provider=IBMQ.get_provider(\"ibm-q\")\n",
    "        qcomp=provider.get_backend(\"ibmq_belem\")\n",
    "        job=execute(circuit,backend=qcomp,shots=self.shots)\n",
    "        job_monitor(job)\n",
    "        result=job.result()\n",
    "        self.res[op_number]=result.get_counts(circuit)\n",
    "        \n",
    "ex1=experiments(300, number_of_qubits,0,0)\n",
    "for i in range(2**number_of_qubits+1):\n",
    "  print(ex1.simulated[i])\n",
    "  print(\"------------\")\n",
    "  print(ex1.operators[i])"
   ]
  },
  {
   "cell_type": "code",
   "execution_count": null,
   "metadata": {
    "id": "sQAiYl2nGnqO"
   },
   "outputs": [],
   "source": [
    "#multi state estimation\n",
    "list,rate = MCMC_multi([H0, H1, U0, U1, E0, E1],\n",
    "                      [75, 0, 29, 46, 35,40], \n",
    "                      10000, 0.05, \n",
    "                      [0,0,0])"
   ]
  },
  {
   "cell_type": "code",
   "execution_count": 10,
   "metadata": {
    "id": "WF9C6Gnvj_Oj"
   },
   "outputs": [
    {
     "ename": "NameError",
     "evalue": "name 'H0' is not defined",
     "output_type": "error",
     "traceback": [
      "\u001b[1;31m---------------------------------------------------------------------------\u001b[0m",
      "\u001b[1;31mNameError\u001b[0m                                 Traceback (most recent call last)",
      "Input \u001b[1;32mIn [10]\u001b[0m, in \u001b[0;36m<cell line: 2>\u001b[1;34m()\u001b[0m\n\u001b[0;32m      1\u001b[0m \u001b[38;5;66;03m#this for the plot\u001b[39;00m\n\u001b[1;32m----> 2\u001b[0m \u001b[38;5;28mlist\u001b[39m,rate \u001b[38;5;241m=\u001b[39m MCMC_multi([\u001b[43mH0\u001b[49m, H1, U0, U1, E0, E1],\n\u001b[0;32m      3\u001b[0m                       [\u001b[38;5;241m284\u001b[39m, \u001b[38;5;241m16\u001b[39m, \u001b[38;5;241m149\u001b[39m, \u001b[38;5;241m151\u001b[39m, \u001b[38;5;241m151\u001b[39m, \u001b[38;5;241m149\u001b[39m], \n\u001b[0;32m      4\u001b[0m                       \u001b[38;5;241m10000\u001b[39m, \u001b[38;5;241m0.05\u001b[39m, \n\u001b[0;32m      5\u001b[0m                       [\u001b[38;5;241m0\u001b[39m,\u001b[38;5;241m0\u001b[39m,\u001b[38;5;241m0\u001b[39m])\n",
      "\u001b[1;31mNameError\u001b[0m: name 'H0' is not defined"
     ]
    }
   ],
   "source": [
    "#this for the plot\n",
    "list,rate = MCMC_multi([H0, H1, U0, U1, E0, E1],\n",
    "                      [284, 16, 149, 151, 151, 149], \n",
    "                      10000, 0.05, \n",
    "                      [0,0,0])"
   ]
  },
  {
   "cell_type": "code",
   "execution_count": null,
   "metadata": {
    "id": "YxUkxxiYFkqm"
   },
   "outputs": [],
   "source": [
    "#state 0 multi\n",
    "list,rate = MCMC_multi([H0, H1, U0, U1, E0, E1],\n",
    "                      [0,0,0,0,10,0], \n",
    "                      5000, 0.3, \n",
    "                      [0.5,0.5,0.5])"
   ]
  },
  {
   "cell_type": "code",
   "execution_count": null,
   "metadata": {
    "id": "NDm2UhNKGKZe"
   },
   "outputs": [],
   "source": [
    "#state 1 mutli\n",
    "list,rate = MCMC_multi([H0, H1, U0, U1, E0, E1],\n",
    "                      [0,0,0,0,0,10], \n",
    "                      5000, 0.3, \n",
    "                      [0.5,0.5,0.5])"
   ]
  },
  {
   "cell_type": "code",
   "execution_count": null,
   "metadata": {
    "id": "s7uXW_feKICg"
   },
   "outputs": [],
   "source": [
    "# test mutli\n",
    "list,rate = MCMC_multi([H0, H1, U0, U1, E0, E1],\n",
    "                      [30,30,30,30,30,30], \n",
    "                      5000, 0.1, \n",
    "                      [0.5,0.5,0.5])"
   ]
  },
  {
   "cell_type": "code",
   "execution_count": null,
   "metadata": {
    "id": "MPeu_Q5ePLUY"
   },
   "outputs": [],
   "source": [
    "import qutip\n",
    "N = len(list)\n",
    "Burn = 5000\n",
    "# N = len(states)\n",
    "# Burn = int(N*0.1)\n",
    "\n",
    "# z = [states[i][2] for i in range(Burn,N)]\n",
    "# x = [states[i][0] for i in range(Burn,N)]\n",
    "# y = [states[i][1] for i in range(Burn,N)]\n",
    "\n",
    "b = qutip.Bloch3d()\n",
    "xlist = [list[i][0] for i in range(Burn,N)]\n",
    "ylist = [list[i][1] for i in range(Burn,N)]\n",
    "zlist = [list[i][2] for i in range(Burn,N)]\n",
    "b.add_points([xlist, ylist, zlist]) # proposed states on the bloch sphere\n",
    "b.point_color=['#3a7cbd']\n",
    "b.point_size=0.035\n",
    "b.add_vectors([0.9,0.,0.])\n",
    "b.vector_color=['grey']\n",
    "b.show() #plot\n"
   ]
  },
  {
   "cell_type": "markdown",
   "metadata": {
    "id": "vEbI1S-shges"
   },
   "source": [
    "### Quiskit simulator"
   ]
  },
  {
   "cell_type": "code",
   "execution_count": null,
   "metadata": {
    "id": "b0OHojY0hsfP"
   },
   "outputs": [],
   "source": [
    "number_of_qubits=1\n",
    "\n",
    "def to_string(lis):\n",
    "  strn=\"\"\n",
    "  l=[0 for i in range(len(lis))]\n",
    "  for i in range(len(lis)):\n",
    "    if(lis[i]-1>=0):\n",
    "      l[lis[i]-1]=1\n",
    "  for i in reversed(range(len(l))):\n",
    "    strn+=str(l[i])\n",
    "  return strn\n",
    "\n",
    "possible_values=dict()\n",
    "\n",
    "def values(lis,n):\n",
    "  possible_values[to_string(lis)]=0\n",
    "  if lis[0]==n:\n",
    "    return\n",
    "  i=n-1\n",
    "  while(i>=0 and lis[i]+1>n):\n",
    "    lis[i]=0\n",
    "    i=i-1\n",
    "  lis[i]=lis[i]+1\n",
    "  values(lis,n)\n",
    "\n",
    "values([0 for i in range((number_of_qubits))],(number_of_qubits))\n",
    "\n",
    "vec = [elem for elem in possible_values]\n",
    "\n",
    "def frobenius_coordinates(state,pauli):\n",
    "  return np.real(np.trace(np.matmul(state.H,pauli)))\n",
    "\n",
    "def find_radius(cor):\n",
    "  sum=0\n",
    "  for i in range(len(cor)):\n",
    "    sum=sum+cor[i]**2\n",
    "  return np.sqrt(sum) \n",
    "\n",
    "#!pip install qiskit\n",
    "from qiskit import *\n",
    "from qiskit.tools.monitor import job_monitor\n",
    "from numpy import pi\n",
    "from qiskit import Aer\n",
    "from qiskit.circuit.random import random_circuit\n",
    "import qiskit.quantum_info as qi\n",
    "\n",
    "\n",
    "\n",
    "class experiments():\n",
    "    def __init__(self,n_of_shots,n_of_qubits,real=0,random=0):\n",
    "        self.n_of_shots=n_of_shots\n",
    "        self.n_of_qubits=n_of_qubits\n",
    "        self.random=random\n",
    "        self.operators=[]\n",
    "        self.real_state=0\n",
    "        \n",
    "        self.shots=n_of_shots\n",
    "        if real==0:\n",
    "            self.simulated=[0]*(2**n_of_qubits+1)\n",
    "            for i in range(2**n_of_qubits+1):\n",
    "              self.simulate(i)\n",
    "        if real==1:\n",
    "            self.res=[0]*(2**n_of_qubits+1)\n",
    "            for i in range(2**n_of_qubits+1):\n",
    "              self.rl(i)\n",
    "        \n",
    "    def simulate(self,op_number):\n",
    "        qr=QuantumRegister(self.n_of_qubits)\n",
    "        cr=ClassicalRegister(self.n_of_qubits)\n",
    "        circuit=QuantumCircuit(qr,cr)\n",
    "\n",
    "        self.real_state=np.matrix([[1 if i==j==0 else 0 for i in range(2**self.n_of_qubits)] for j in range(2**self.n_of_qubits)])\n",
    "        for i in range(self.n_of_qubits):\n",
    "            circuit.h(qr[i])\n",
    "            circuit.barrier(qr[i])\n",
    "        \n",
    "        self.real_state=np.matmul(np.matrix(qi.Operator(circuit)),np.matmul(self.real_state,np.matrix(qi.Operator(circuit)).H))\n",
    "        if self.random==0:\n",
    "            qr1=QuantumRegister(self.n_of_qubits)\n",
    "            cr1=ClassicalRegister(self.n_of_qubits)\n",
    "            circuit1=QuantumCircuit(qr1,cr1)\n",
    "                \n",
    "            if op_number<2**self.n_of_qubits:\n",
    "                for i in range(self.n_of_qubits):\n",
    "                  if(vec[op_number][i]==\"0\"):\n",
    "                      circuit.h(qr[i])\n",
    "                      circuit1.h(qr1[i])\n",
    "                  else:\n",
    "                      circuit1.u(pi / 2, 0, pi / 2, qr1[i])\n",
    "                      circuit.u(pi / 2, 0, pi / 2, qr[i])\n",
    "                self.operators.append(qi.Operator(circuit1))\n",
    "                \n",
    "            else:\n",
    "                self.operators.append(qi.Operator(circuit1))\n",
    "\n",
    "        \n",
    "        else:\n",
    "            circuit1=random_circuit(self.n_of_qubits, 3,3)\n",
    "            self.operators.append(qi.Operator(circuit1))\n",
    "            circuit.compose(circuit1,inplace=True)\n",
    "            \n",
    "        circuit.measure(qr,cr)\n",
    "\n",
    "        simulator=Aer.get_backend(\"qasm_simulator\")\n",
    "        result=execute(circuit,backend=simulator,shots=self.shots).result()\n",
    "        self.simulated[op_number]=result.get_counts(circuit)\n",
    "        \n",
    "    def rl(self,op_number):\n",
    "        qr=QuantumRegister(self.n_of_qubits)\n",
    "        cr=ClassicalRegister(self.n_of_qubits)\n",
    "        circuit=QuantumCircuit(qr,cr)\n",
    "        \n",
    "        for i in range(self.n_of_qubits):\n",
    "            circuit.h(qr[i])\n",
    "            circuit.barrier(qr[i])\n",
    "        \n",
    "        if self.random==0:\n",
    "            qr1=QuantumRegister(self.n_of_qubits)\n",
    "            cr1=ClassicalRegister(self.n_of_qubits)\n",
    "            circuit1=QuantumCircuit(qr1,cr1)\n",
    "                \n",
    "            if op_number<2**self.n_of_qubits:\n",
    "                for i in range(self.n_of_qubits):\n",
    "                  if(vec[op_number][i]==\"0\"):\n",
    "                      circuit.h(qr[i])\n",
    "                      circuit1.h(qr1[i])\n",
    "                  else:\n",
    "                      circuit1.u(pi / 2, 0, pi / 2, qr1[i])\n",
    "                      circuit.u(pi / 2, 0, pi / 2, qr[i])\n",
    "                self.operators.append(qi.Operator(circuit1))\n",
    "                \n",
    "            else:\n",
    "                self.operators.append(qi.Operator(circuit1))\n",
    "\n",
    "        \n",
    "        else:\n",
    "            circuit1=random_circuit(self.n_of_qubits, 3,3)\n",
    "            self.operators.append(qi.Operator(circuit1))\n",
    "            circuit.compose(circuit1,inplace=True)\n",
    "            \n",
    "        circuit.measure(qr,cr)\n",
    "        \n",
    "        IBMQ.load_account()\n",
    "        provider=IBMQ.get_provider(\"ibm-q\")\n",
    "        qcomp=provider.get_backend(\"ibmq_belem\")\n",
    "        job=execute(circuit,backend=qcomp,shots=self.shots)\n",
    "        job_monitor(job)\n",
    "        result=job.result()\n",
    "        self.res[op_number]=result.get_counts(circuit)\n",
    "        \n",
    "ex1=experiments(300, number_of_qubits,0,0)\n",
    "for i in range(2**number_of_qubits+1):\n",
    "  print(ex1.simulated[i])\n",
    "  print(\"------------\")\n",
    "  print(ex1.operators[i])\n",
    "        \n",
    "        \n",
    "        \n",
    "        \n",
    "        \n",
    "        "
   ]
  },
  {
   "cell_type": "code",
   "execution_count": null,
   "metadata": {
    "id": "HRAJKVKEisEA"
   },
   "outputs": [],
   "source": [
    "dic = ex1.simulated"
   ]
  },
  {
   "cell_type": "code",
   "execution_count": null,
   "metadata": {
    "id": "3idrIMC1jp3T"
   },
   "outputs": [],
   "source": [
    "dic"
   ]
  },
  {
   "cell_type": "markdown",
   "metadata": {
    "id": "wj654K-HVx3K"
   },
   "source": [
    "### correlogram"
   ]
  },
  {
   "cell_type": "code",
   "execution_count": null,
   "metadata": {
    "id": "_ynGL0X9YHNg"
   },
   "outputs": [],
   "source": [
    "import statsmodels.api as sm\n",
    "import matplotlib.pyplot as plt\n",
    "\n",
    "def plot_autorelation(data):\n",
    "  N = len(data)\n",
    "  dictionary = {\n",
    "    'X': [data[i][0] for i in range(N)], \n",
    "    'Y': [data[i][1] for i in range(N)], \n",
    "    'Z': [data[i][2] for i in range(N)]\n",
    "    }\n",
    "  df = pd.DataFrame(dictionary)\n",
    "  sm.graphics.tsa.plot_acf(df['X'].values.squeeze(), lags=50)\n",
    "  plt.show()"
   ]
  },
  {
   "cell_type": "code",
   "execution_count": null,
   "metadata": {
    "id": "8pVhvBHTcYIM"
   },
   "outputs": [],
   "source": [
    "rate"
   ]
  },
  {
   "cell_type": "code",
   "execution_count": null,
   "metadata": {
    "id": "INsbfKy0Y3wR"
   },
   "outputs": [],
   "source": [
    "path = list\n",
    "plot_autorelation(path)"
   ]
  },
  {
   "cell_type": "markdown",
   "metadata": {
    "id": "eY1No0x-zujX"
   },
   "source": [
    "### Fidelity measure"
   ]
  },
  {
   "cell_type": "code",
   "execution_count": null,
   "metadata": {
    "id": "g-Sn4hDOz4hg"
   },
   "outputs": [],
   "source": [
    "import numpy as np\n",
    "from scipy.linalg import sqrtm\n",
    "\n",
    "def fidelity(r_true, list_point):\n",
    "  fid = 0 #the final return\n",
    "  N= len(list_point)\n",
    "  sx = np.matrix([[0 , 1] , [1 , 0]]) \n",
    "  sy = np.matrix([[0 , -1j] , [1j , 0]])\n",
    "  sz = np.matrix([[1,0] , [0,-1]]) # matrixes in order to convert r vector to rho matrix\n",
    "  s = [sx, sy, sz]\n",
    "  rho_true = np.matrix([[1 , 0],[0 , 1]])/2 + r_true[0]*sx /2 + r_true[1]*sy/2 + r_true[2]*sz/2 \n",
    "  for i in range(N):\n",
    "    r = list_point[i]\n",
    "    rho = np.matrix([[1 , 0],[0 , 1]])/2 + r[0]*sx /2 + r[1]*sy/2 + r[2]*sz/2 #convert the r vector to the rho matrix\n",
    "    M = rho @ rho_true\n",
    "    fid += np.trace(sqrtm(M)).real**2 # fidelity sum\n",
    "  return fid/N #return weighted fidelity sum"
   ]
  },
  {
   "cell_type": "code",
   "execution_count": null,
   "metadata": {
    "id": "Vti5QlJb1Hzd"
   },
   "outputs": [],
   "source": [
    "fidelity([1,0,0], list[1000:])"
   ]
  },
  {
   "cell_type": "code",
   "execution_count": null,
   "metadata": {
    "id": "JDyYEn5w9gIj"
   },
   "outputs": [],
   "source": [
    "import numpy as np\n",
    "from scipy.linalg import sqrtm\n",
    "a = np.array([[1.0, 3.0], [1.0, 4.0]])\n",
    "r = sqrtm(a)\n",
    "r "
   ]
  },
  {
   "cell_type": "markdown",
   "metadata": {
    "id": "wC45biLc6wXy"
   },
   "source": [
    "##MCMC simulation for 2 Q-bits"
   ]
  },
  {
   "cell_type": "markdown",
   "metadata": {
    "id": "bDMMdBiR7gPs"
   },
   "source": [
    "Matrix initilization"
   ]
  },
  {
   "cell_type": "code",
   "execution_count": 5,
   "metadata": {
    "id": "DOVOVPR37Csg"
   },
   "outputs": [],
   "source": [
    "H=np.matrix([[1/np.sqrt(2),1/np.sqrt(2)],[1/np.sqrt(2),-1/np.sqrt(2)]])\n",
    "U=np.matrix([[1/np.sqrt(2),-1j/np.sqrt(2)],[1/np.sqrt(2),1j/np.sqrt(2)]])\n",
    "I=np.matrix(np.eye(2))\n",
    "Id = np.matrix([[1 , 0],[0 , 1]])\n",
    "sx = np.matrix([[0 , 1] , [1 , 0]])\n",
    "sy = np.matrix([[0 , -1j] , [1j , 0]])\n",
    "sz = np.matrix([[1,0] , [0,-1]])\n",
    "operators=[np.matrix(TensorProduct(H,H)),np.matrix(TensorProduct(U,H)),np.matrix(TensorProduct(H,U)),np.matrix(TensorProduct(U,U)),np.matrix(TensorProduct(I,I))]\n",
    "pauli_1Q=[Id,sx,sy,sz]\n",
    "ang_coor=[0]*15\n",
    "pauli_2Q=[]\n",
    "for i in range(4):\n",
    "  for j in range(4):\n",
    "    pauli_2Q.append(np.matrix(TensorProduct(pauli_1Q[i],pauli_1Q[j])))"
   ]
  },
  {
   "cell_type": "markdown",
   "metadata": {
    "id": "rZCLwSCF_vQs"
   },
   "source": [
    "Generate sample from the real state (distribution of the real state)"
   ]
  },
  {
   "cell_type": "code",
   "execution_count": 6,
   "metadata": {
    "id": "-FNPSi_x8_gG"
   },
   "outputs": [],
   "source": [
    "def generate():\n",
    "  for i in range(13):\n",
    "    ang_coor[i]=math.pi*np.random.beta(200,200)\n",
    "  ang_coor[13]=2*math.pi*np.random.beta(400,400)\n",
    "\n",
    "  rho=np.random.beta(90,10)\n",
    "  coor=[rho]*15\n",
    "  for i in range(14):\n",
    "    for j in range(i+1):\n",
    "      if(i==j):\n",
    "        coor[i]=coor[i]*math.cos(ang_coor[j])\n",
    "      else:\n",
    "        coor[i]=coor[i]*math.sin(ang_coor[j])\n",
    "\n",
    "  for i in range(14):\n",
    "    coor[14]=coor[14]*math.sin(ang_coor[i])\n",
    "\n",
    "  state=pauli_2Q[0]\n",
    "  for i in range(15):\n",
    "    state=state+coor[i]*pauli_2Q[i+1]\n",
    "  state=state/4\n",
    "  return state\n",
    "\n",
    "def measure(state):\n",
    "  prob=[0]*4\n",
    "  for i in range(3):\n",
    "    prob[i]=np.real(state[i,i])\n",
    "  prob[3]=1-prob[0]-prob[1]-prob[2]\n",
    "  return  np.random.multinomial(1,prob)\n",
    "\n",
    "pos=dict()\n",
    "pos[0]=\"00\"\n",
    "pos[1]=\"01\"\n",
    "pos[2]=\"10\"\n",
    "pos[3]=\"11\"\n",
    "\n",
    "exp=dict()\n",
    "exp[\"00\"]=0\n",
    "exp[\"01\"]=0\n",
    "exp[\"10\"]=0\n",
    "exp[\"11\"]=0\n",
    "\n",
    "def experiment():\n",
    "  state=generate()\n",
    "  results=[]\n",
    "  for i in range(5):\n",
    "    T_state=np.matmul(operators[i],np.matmul(state,operators[i].H))\n",
    "    x=measure(T_state)\n",
    "    results.append(x)\n",
    "  return results\n",
    "\n",
    "class random_experiments():\n",
    "  def __init__(self,n):\n",
    "    self.n=n\n",
    "    self.simulated=[exp.copy() for i in range(5)]\n",
    "\n",
    "    for j in range(self.n):\n",
    "      result=experiment()\n",
    "      for i in range(5):\n",
    "          self.simulated[i][pos[np.where(result[i]>0)[0][0]]]=self.simulated[i][pos[np.where(result[i]>0)[0][0]]]+1"
   ]
  },
  {
   "cell_type": "code",
   "execution_count": 7,
   "metadata": {
    "id": "baGkqJA2LZ-J"
   },
   "outputs": [],
   "source": [
    "possible_values=dict()\n",
    "number_of_qubits=2\n",
    "def values(lis,n):\n",
    "  possible_values[to_string(lis)]=0\n",
    "  if lis[0]==n:\n",
    "    return\n",
    "  i=n-1\n",
    "  while(i>=0 and lis[i]+1>n):\n",
    "    lis[i]=0\n",
    "    i=i-1\n",
    "  lis[i]=lis[i]+1\n",
    "  values(lis,n)\n",
    "\n",
    "def to_string(lis):\n",
    "  strn=\"\"\n",
    "  l=[0 for i in range(len(lis))]\n",
    "  for i in range(len(lis)):\n",
    "    if(lis[i]-1>=0):\n",
    "      l[lis[i]-1]=1\n",
    "  for i in reversed(range(len(l))):\n",
    "    strn+=str(l[i])\n",
    "  return strn\n",
    "\n",
    "number_of_qubits =2\n",
    "values([0 for i in range((number_of_qubits))],(number_of_qubits))\n",
    "\n",
    "mesur_list = [np.zeros((4,4))] * 20\n",
    "E_list = [np.zeros((4,4)),np.zeros((4,4)),np.zeros((4,4)),np.zeros((4,4)) ]\n",
    "for i in range(4):\n",
    "  E_list[i].itemset((i,i),1)\n",
    "\n",
    "for j in range(5):\n",
    "  for i in range(4):\n",
    "    mesur_list[j * 4 + i] = np.linalg.inv(operators[j]) @ E_list[i] @ np.linalg.inv(operators[j]).H\n",
    "\n",
    "mesur_dic = [{} for k in range(5)]\n",
    "possible_outcome = [ elem for elem in possible_values]\n",
    "for j in range(5):\n",
    "  for i,val in enumerate(possible_outcome):\n",
    "    mesur_dic[j][val] = mesur_list[j * 4 + i]"
   ]
  },
  {
   "cell_type": "code",
   "execution_count": 8,
   "metadata": {
    "id": "U6_ps19g9haV"
   },
   "outputs": [],
   "source": [
    "ex1=random_experiments(1000)"
   ]
  },
  {
   "cell_type": "code",
   "execution_count": 9,
   "metadata": {
    "id": "Q2H481rgfccJ"
   },
   "outputs": [],
   "source": [
    "output_dic = ex1.simulated"
   ]
  },
  {
   "cell_type": "code",
   "execution_count": 10,
   "metadata": {
    "id": "4cqdOIDoh7vw"
   },
   "outputs": [],
   "source": [
    "def facto(n):\n",
    "    if n == 0 or n==1:\n",
    "        return 1\n",
    "    else:\n",
    "        return n * facto(n-1)\n",
    "\n",
    "def Likelyhood_multi_ratio(r_1,r_2, list_Mesure, list_instance): #r_1 would be the proposed state, and r_2 the initial one\n",
    "    prod = 1\n",
    "    N = len(list_instance)\n",
    "    sx = np.matrix([[0 , 1] , [1 , 0]]) # introduction of Bloch matrix in order to pass from r to rho\n",
    "    sy = np.matrix([[0 , -1j] , [1j , 0]])\n",
    "    sz = np.matrix([[1,0] , [0,-1]])\n",
    "    s = [sx, sy, sz]\n",
    "    rho_1 = np.matrix([[1 , 0],[0 , 1]])/2 + r_1[0]*sx /2 + r_1[1]*sy/2 + r_1[2]*sz/2 \n",
    "    rho_2 = np.matrix([[1 , 0],[0 , 1]])/2 + r_2[0]*sx /2 + r_2[1]*sy/2 + r_2[2]*sz/2 \n",
    "    for i in range(0, N, 2): # mesurement are gouped by 2 for each configuration\n",
    "        ng0 = list_instance[i]\n",
    "        ng1 = list_instance[i+1]\n",
    "        prod *= (np.trace(rho_1 @ list_Mesure[i]) / np.trace(rho_2 @ list_Mesure[i]) ) **  ng0 *  (np.trace(rho_1 @ list_Mesure[i+1]) / np.trace(rho_2 @ list_Mesure[i+1]) ) **ng1\n",
    "    return prod\n",
    "\n",
    "def Likelyhood_ratio_2Q(r_1, r_2, dic_mesure, dic_output, pauli_2Q):\n",
    "    prod = 1\n",
    "    rho_1 = pauli_2Q[0]/4 #the identity matrix\n",
    "    rho_2 = pauli_2Q[0]/4 #the identity matrix\n",
    "    for j in range(15):\n",
    "      rho_1 = rho_1 + pauli_2Q[j+1] * r_1[j] / 4 # add the linear combinaision in order to creat rho\n",
    "      rho_2 = rho_2 + pauli_2Q[j+1] * r_2[j] / 4\n",
    "    for a in range(5): # for each configuration alpha\n",
    "      for gamma in dic_output[a]: # uptdate the likelyhood by iterating throw all the different ouput\n",
    "        prod *= ( np.trace(rho_1 @ dic_mesure[a][gamma]) / np.trace(rho_2 @ dic_mesure[a][gamma]) )  ** dic_output[a][gamma]\n",
    "    return prod\n",
    "\n",
    "def MCMC_2Q( dic_mesure, dic_output, N, var, r0, pauli_2Q):\n",
    "    parcour = [ [0]*15 for k in range(N)]\n",
    "    r = r0\n",
    "    Acceptance_count = 0 # to count in the end the acceptance rate\n",
    "    for i in range(N):\n",
    "        parcour[i] = r # at each iteration I store the vector r\n",
    "        dr = np.random.normal(loc=0.0, scale=var, size=(1,15)) # infenitisimal shift\n",
    "        r2 = r + dr[0] # I need to put dr[0] to conserve the array shape, indeed dr is a matrix(1,3)\n",
    "        while np.linalg.norm(r2, ord=None, axis=None, keepdims=False)>1:  #as long as we don't have a valide state, we resample a proposed state\n",
    "          dr = np.random.normal(loc=0.0, scale=var, size=(1,15))\n",
    "          r2 = r + dr[0]\n",
    "        ratio = Likelyhood_ratio_2Q(r2, r, dic_mesure, dic_output, pauli_2Q)\n",
    "        U = np.random.uniform(low=0.0, high=1.0, size=None)\n",
    "        if U < ratio:  #I shift the position according to the MH algorithm\n",
    "            r = r2\n",
    "            Acceptance_count += 1\n",
    "    return parcour, Acceptance_count/N"
   ]
  },
  {
   "cell_type": "code",
   "execution_count": 11,
   "metadata": {
    "id": "KtZvJnUJMuI0"
   },
   "outputs": [],
   "source": [
    "parcour,rate = MCMC_2Q(mesur_dic, output_dic,40000,0.01,[0]*15,pauli_2Q)"
   ]
  },
  {
   "cell_type": "markdown",
   "metadata": {
    "id": "CboPUkp9BBa2"
   },
   "source": [
    "#### plot framework"
   ]
  },
  {
   "cell_type": "code",
   "execution_count": 22,
   "metadata": {
    "id": "_PQn5ta2_xeb",
    "outputId": "ad756454-48b4-4417-dec3-202052c97221"
   },
   "outputs": [
    {
     "data": {
      "text/plain": [
       "40000"
      ]
     },
     "execution_count": 22,
     "metadata": {},
     "output_type": "execute_result"
    }
   ],
   "source": [
    "len(parcour)"
   ]
  },
  {
   "cell_type": "code",
   "execution_count": 23,
   "metadata": {
    "id": "l1iDZS5t_xec"
   },
   "outputs": [],
   "source": [
    "def partial_trace(state):\n",
    "    S=np.matrix([[0+1j*0,0+1j*0],[0+1j*0,0+1j*0]])\n",
    "    S[0,0]=state[0,0]+state[1,1]\n",
    "    S[0,1]=state[0,2]+state[1,3]\n",
    "    S[1,0]=state[2,0]+state[3,1]\n",
    "    S[1,1]=state[2,2]+state[3,3]\n",
    "    return S"
   ]
  },
  {
   "cell_type": "code",
   "execution_count": 12,
   "metadata": {
    "id": "DbjDTwnv_xej"
   },
   "outputs": [],
   "source": [
    "def to_state(coor):\n",
    "    state=pauli_2Q[0]\n",
    "    for i in range(len(coor)):\n",
    "        state=state+coor[i]*pauli_2Q[i+1]\n",
    "    state=state/4\n",
    "    return state"
   ]
  },
  {
   "cell_type": "code",
   "execution_count": 13,
   "metadata": {
    "id": "zKjMcx-W_xej"
   },
   "outputs": [],
   "source": [
    "states=[to_state(i) for i in parcour]"
   ]
  },
  {
   "cell_type": "code",
   "execution_count": 26,
   "metadata": {
    "id": "xUMNokjI_xej"
   },
   "outputs": [],
   "source": [
    "p_trace = [partial_trace(i) for i in states]"
   ]
  },
  {
   "cell_type": "code",
   "execution_count": 14,
   "metadata": {
    "id": "gz2g9rT9_xej"
   },
   "outputs": [],
   "source": [
    "def measure(ρ):\n",
    "    Id = np.matrix([[1 , 0],[0 , 1]])\n",
    "    sx = np.matrix([[0 , 1] , [1 , 0]])\n",
    "    sy = np.matrix([[0 , -1j] , [1j , 0]])\n",
    "    sz = np.matrix([[1,0] , [0,-1]])    \n",
    "    x = np.trace(np.dot(ρ, sx)).real\n",
    "    y = np.trace(np.dot(ρ, sy)).real\n",
    "    z = np.trace(np.dot(ρ, sz)).real\n",
    "    return [x, y, z]"
   ]
  },
  {
   "cell_type": "code",
   "execution_count": 15,
   "metadata": {},
   "outputs": [],
   "source": [
    "def partial_trace_1(state):\n",
    "    S=np.matrix([[0+1j*0,0+1j*0],[0+1j*0,0+1j*0]])\n",
    "    S[0,0]=state[0,0]+state[2,2]\n",
    "    S[0,1]=state[0,1]+state[2,3]\n",
    "    S[1,0]=state[1,0]+state[3,2]\n",
    "    S[1,1]=state[1,1]+state[3,3]\n",
    "    return S"
   ]
  },
  {
   "cell_type": "code",
   "execution_count": 16,
   "metadata": {},
   "outputs": [],
   "source": [
    "p_trace = [partial_trace_1(i) for i in states]"
   ]
  },
  {
   "cell_type": "code",
   "execution_count": null,
   "metadata": {
    "id": "k1ceaf3H_xek",
    "outputId": "15f8cbb2-5bd9-48ac-fb47-4ba363b2c18c"
   },
   "outputs": [],
   "source": [
    "import qutip\n",
    "#plot with color for weight visualisation\n",
    "import numpy as np\n",
    "import matplotlib.pyplot as plt\n",
    "import mpl_toolkits.mplot3d.axes3d as p3\n",
    "import matplotlib.animation as animation\n",
    " \n",
    "fig = plt.figure()\n",
    "\n",
    "# max = np.amax(weigths)\n",
    "\n",
    "b = qutip.Bloch3d()\n",
    "x, y, z = [], [], []\n",
    "# syntax for 3-D projection\n",
    "for i in range(35000,40000):\n",
    "  #c = ((1-weigths[i]/max),(1-weigths[i]/max), (1-weigths[i]/max))\n",
    "    c = (0,0,0)\n",
    "    p = measure(p_trace[i])\n",
    "    z.append(p[2])\n",
    "    x.append(p[0])\n",
    "    y.append(p[1])\n",
    "  #ax.scatter(x, y, z, c = weights[i]*255*10)\n",
    "\n",
    "\n",
    "b.add_points([x,y,z],alpha=1)\n",
    "b.point_color=['#3a7cbd']\n",
    "b.point_size=0.035\n",
    "\n",
    "b.show()"
   ]
  },
  {
   "cell_type": "markdown",
   "metadata": {
    "id": "NurVaJCUV7Fm"
   },
   "source": [
    "#### fidelity"
   ]
  },
  {
   "cell_type": "code",
   "execution_count": null,
   "metadata": {
    "id": "eFnQkbyeV8lB"
   },
   "outputs": [],
   "source": [
    "import numpy as np\n",
    "from scipy.linalg import sqrtm\n",
    "\n",
    "\n",
    "def fidelity_2Q(list_point,pauli_2Q):\n",
    "  fid = 0 #the final return\n",
    "  N= len(list_point)\n",
    "  for i in range(N):\n",
    "    r = list_point[i]\n",
    "    rho = pauli_2Q[0]/4 #the identity matrix\n",
    "    for j in range(15):\n",
    "      rho = rho + pauli_2Q[j+1] * r[j] / 4\n",
    "    M = rho @ generate()\n",
    "    fid += np.trace(sqrtm(M)).real**2 # fidelity sum\n",
    "  return fid/N #return weighted fidelity sum"
   ]
  },
  {
   "cell_type": "code",
   "execution_count": null,
   "metadata": {
    "id": "LyF57sq1a7J-"
   },
   "outputs": [],
   "source": [
    "fidelity_2Q(parcour[10000:], pauli_2Q)"
   ]
  }
 ],
 "metadata": {
  "colab": {
   "collapsed_sections": [
    "kdft0mdtLE1K",
    "-1NJDeVFN0dD",
    "wj654K-HVx3K",
    "eY1No0x-zujX"
   ],
   "provenance": []
  },
  "kernelspec": {
   "display_name": "Python 3 (ipykernel)",
   "language": "python",
   "name": "python3"
  },
  "language_info": {
   "codemirror_mode": {
    "name": "ipython",
    "version": 3
   },
   "file_extension": ".py",
   "mimetype": "text/x-python",
   "name": "python",
   "nbconvert_exporter": "python",
   "pygments_lexer": "ipython3",
   "version": "3.9.12"
  }
 },
 "nbformat": 4,
 "nbformat_minor": 1
}
