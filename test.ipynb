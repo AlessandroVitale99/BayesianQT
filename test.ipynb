{
 "cells": [
  {
   "cell_type": "code",
   "execution_count": 1,
   "id": "210ddd89-5472-4b3b-8428-27f99047917c",
   "metadata": {},
   "outputs": [],
   "source": [
    "from experiments.experiments import experiments"
   ]
  },
  {
   "cell_type": "code",
   "execution_count": 2,
   "id": "5f8b4c91-dd57-44ca-bebe-6491c50a055c",
   "metadata": {},
   "outputs": [],
   "source": [
    "number_of_qubits=1\n",
    "\n",
    "def to_string(lis):\n",
    "  strn=\"\"\n",
    "  l=[0 for i in range(len(lis))]\n",
    "  for i in range(len(lis)):\n",
    "    if(lis[i]-1>=0):\n",
    "      l[lis[i]-1]=1\n",
    "  for i in reversed(range(len(l))):\n",
    "    strn+=str(l[i])\n",
    "  return strn\n",
    "\n",
    "possible_values=dict()\n",
    "\n",
    "def values(lis,n):\n",
    "  possible_values[to_string(lis)]=0\n",
    "  if lis[0]==n:\n",
    "    return\n",
    "  i=n-1\n",
    "  while(i>=0 and lis[i]+1>n):\n",
    "    lis[i]=0\n",
    "    i=i-1\n",
    "  lis[i]=lis[i]+1\n",
    "  values(lis,n)\n",
    "\n",
    "values([0 for i in range((number_of_qubits))],(number_of_qubits))\n",
    "\n",
    "vec = [elem for elem in possible_values]"
   ]
  },
  {
   "cell_type": "code",
   "execution_count": 3,
   "id": "f160dd1a-ad6a-42aa-94aa-3e28bcd2a93f",
   "metadata": {},
   "outputs": [
    {
     "name": "stdout",
     "output_type": "stream",
     "text": [
      "{'0': 500}\n",
      "------------\n",
      "Operator([[ 0.70710678+0.j,  0.70710678+0.j],\n",
      "          [ 0.70710678+0.j, -0.70710678+0.j]],\n",
      "         input_dims=(2,), output_dims=(2,))\n",
      "{'1': 242, '0': 258}\n",
      "------------\n",
      "Operator([[ 7.07106781e-01+0.j        , -4.32978028e-17-0.70710678j],\n",
      "          [ 7.07106781e-01+0.j        ,  4.32978028e-17+0.70710678j]],\n",
      "         input_dims=(2,), output_dims=(2,))\n",
      "{'1': 258, '0': 242}\n",
      "------------\n",
      "Operator([[1.+0.j, 0.+0.j],\n",
      "          [0.+0.j, 1.+0.j]],\n",
      "         input_dims=(2,), output_dims=(2,))\n"
     ]
    }
   ],
   "source": [
    "ex1= experiments(500, number_of_qubits,0,0,vec=vec)\n",
    "for i in range(2**number_of_qubits+1):\n",
    "  print(ex1.simulated[i])\n",
    "  print(\"------------\")\n",
    "  print(ex1.operators[i])\n",
    "        \n",
    "        \n",
    "        \n",
    "        \n",
    "        \n",
    "        "
   ]
  }
 ],
 "metadata": {
  "kernelspec": {
   "display_name": "Python 3 (ipykernel)",
   "language": "python",
   "name": "python3"
  },
  "language_info": {
   "codemirror_mode": {
    "name": "ipython",
    "version": 3
   },
   "file_extension": ".py",
   "mimetype": "text/x-python",
   "name": "python",
   "nbconvert_exporter": "python",
   "pygments_lexer": "ipython3",
   "version": "3.9.12"
  }
 },
 "nbformat": 4,
 "nbformat_minor": 5
}
