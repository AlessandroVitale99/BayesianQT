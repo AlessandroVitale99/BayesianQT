{
 "cells": [
  {
   "cell_type": "code",
   "execution_count": 1,
   "id": "45f53746-346b-49f7-bd8c-4423e9418a0e",
   "metadata": {},
   "outputs": [],
   "source": [
    "from qiskit import QuantumCircuit\n",
    "import qiskit.quantum_info as qi\n",
    "from qiskit.providers.aer import AerSimulator\n",
    "from qiskit.providers.aer.noise import NoiseModel, mixed_unitary_error"
   ]
  },
  {
   "cell_type": "code",
   "execution_count": 2,
   "id": "e7793e1a-71a9-4188-9d40-d785912ddf46",
   "metadata": {},
   "outputs": [
    {
     "data": {
      "text/latex": [
       "$$\n",
       "\n",
       "\\begin{bmatrix}\n",
       "\\tfrac{1}{2} & 0.05 - 0.35i  \\\\\n",
       " 0.05 + 0.35i & \\tfrac{1}{2}  \\\\\n",
       " \\end{bmatrix}\n",
       "$$"
      ],
      "text/plain": [
       "<IPython.core.display.Latex object>"
      ]
     },
     "execution_count": 2,
     "metadata": {},
     "output_type": "execute_result"
    }
   ],
   "source": [
    "l = qi.DensityMatrix.from_label('l')\n",
    "r = qi.DensityMatrix.from_label('r')\n",
    "p = qi.DensityMatrix.from_label('+')\n",
    "\n",
    "ρ = 8/10 * r + 1/10 * l + 1/10 * p\n",
    "ρ.draw('latex')"
   ]
  },
  {
   "cell_type": "code",
   "execution_count": 4,
   "id": "6ad27779-4f72-4566-9b4c-689a03322eec",
   "metadata": {},
   "outputs": [],
   "source": [
    "S = qi.Operator.from_label('S')\n",
    "Sdg = S.adjoint()\n",
    "I = qi.Operator.from_label('I')\n",
    "\n",
    "prob_S = 0.8\n",
    "prob_Sdg = 0.1\n",
    "prob_I = 0.1"
   ]
  },
  {
   "cell_type": "code",
   "execution_count": 5,
   "id": "25393d2f-f23f-41b9-b6c1-cb6de0f7a7b7",
   "metadata": {},
   "outputs": [
    {
     "name": "stdout",
     "output_type": "stream",
     "text": [
      "QuantumError on 1 qubits. Noise circuits:\n",
      "  P(0) = 0.8, Circuit = \n",
      "   ┌─────────┐\n",
      "q: ┤ Unitary ├\n",
      "   └─────────┘\n",
      "  P(1) = 0.1, Circuit = \n",
      "   ┌─────────┐\n",
      "q: ┤ Unitary ├\n",
      "   └─────────┘\n",
      "  P(2) = 0.1, Circuit = \n",
      "   ┌───┐\n",
      "q: ┤ I ├\n",
      "   └───┘\n"
     ]
    }
   ],
   "source": [
    "S_noisy = mixed_unitary_error([(S, prob_S), (Sdg, prob_Sdg), (I, prob_I)])\n",
    "print(S_noisy)"
   ]
  },
  {
   "cell_type": "code",
   "execution_count": 6,
   "id": "6278a25c-be30-4881-8afe-85089a436de4",
   "metadata": {},
   "outputs": [
    {
     "name": "stdout",
     "output_type": "stream",
     "text": [
      "NoiseModel:\n",
      "  Basis gates: ['cx', 'id', 'rz', 'sx']\n",
      "  Instructions with noise: ['id']\n",
      "  Qubits with noise: [0]\n",
      "  Specific qubit errors: [('id', (0,))]\n"
     ]
    }
   ],
   "source": [
    "noise_model = NoiseModel()\n",
    "noise_model.add_quantum_error(S_noisy, ['id'], [0])\n",
    "print(noise_model)"
   ]
  },
  {
   "cell_type": "code",
   "execution_count": 7,
   "id": "1fa48a66-e5c4-48e7-8846-c79587796186",
   "metadata": {},
   "outputs": [
    {
     "data": {
      "text/html": [
       "<pre style=\"word-wrap: normal;white-space: pre;background: #fff0;line-height: 1.1;font-family: &quot;Courier New&quot;,Courier,monospace\">   ┌───┐┌───┐ density_matrix \n",
       "q: ┤ H ├┤ I ├───────░────────\n",
       "   └───┘└───┘       ░        </pre>"
      ],
      "text/plain": [
       "   ┌───┐┌───┐ density_matrix \n",
       "q: ┤ H ├┤ I ├───────░────────\n",
       "   └───┘└───┘       ░        "
      ]
     },
     "execution_count": 7,
     "metadata": {},
     "output_type": "execute_result"
    }
   ],
   "source": [
    "qc = QuantumCircuit(1)\n",
    "qc.h(0)\n",
    "qc.id(0)\n",
    "qc.save_density_matrix()\n",
    "qc.draw()"
   ]
  },
  {
   "cell_type": "code",
   "execution_count": 9,
   "id": "f3147d0b-a376-4068-aa56-f9fc5883e860",
   "metadata": {},
   "outputs": [],
   "source": [
    "sim_density = AerSimulator(noise_model=noise_model)\n",
    "job = sim_density.run(qc)\n",
    "result = job.result().data()\n",
    "ρs = result.get('density_matrix')"
   ]
  },
  {
   "cell_type": "code",
   "execution_count": 11,
   "id": "21ba371e-6099-4829-9c21-c69ecd191a15",
   "metadata": {},
   "outputs": [
    {
     "data": {
      "text/latex": [
       "$$\n",
       "\n",
       "\\begin{bmatrix}\n",
       "\\tfrac{1}{2} & 0.05 - 0.35i  \\\\\n",
       " 0.05 + 0.35i & \\tfrac{1}{2}  \\\\\n",
       " \\end{bmatrix}\n",
       "$$"
      ],
      "text/plain": [
       "<IPython.core.display.Latex object>"
      ]
     },
     "execution_count": 11,
     "metadata": {},
     "output_type": "execute_result"
    }
   ],
   "source": [
    "ρs.draw('latex')"
   ]
  },
  {
   "cell_type": "code",
   "execution_count": null,
   "id": "107a35c6-7e06-4870-b606-fec6ea454c53",
   "metadata": {},
   "outputs": [],
   "source": []
  }
 ],
 "metadata": {
  "kernelspec": {
   "display_name": "BQST",
   "language": "python",
   "name": "bqst"
  },
  "language_info": {
   "codemirror_mode": {
    "name": "ipython",
    "version": 3
   },
   "file_extension": ".py",
   "mimetype": "text/x-python",
   "name": "python",
   "nbconvert_exporter": "python",
   "pygments_lexer": "ipython3",
   "version": "3.10.6"
  }
 },
 "nbformat": 4,
 "nbformat_minor": 5
}
