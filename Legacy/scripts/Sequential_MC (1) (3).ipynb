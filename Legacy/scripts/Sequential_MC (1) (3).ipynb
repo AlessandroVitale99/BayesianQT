{
 "cells": [
  {
   "cell_type": "code",
   "execution_count": 1,
   "metadata": {
    "executionInfo": {
     "elapsed": 209,
     "status": "ok",
     "timestamp": 1672943954932,
     "user": {
      "displayName": "nome cognome",
      "userId": "03122503824888501452"
     },
     "user_tz": -60
    },
    "id": "nOXdUgNBBlw9"
   },
   "outputs": [],
   "source": [
    "import numpy as np\n",
    "import os\n",
    "import random\n",
    "import pandas as pd\n",
    "import seaborn as sns\n",
    "import matplotlib as mpl\n",
    "import matplotlib.pyplot as plt\n",
    "import qutip\n",
    "from matplotlib.animation import FuncAnimation\n",
    "from IPython import display\n",
    "#from qiskit.visualization import plot_bloch_vector"
   ]
  },
  {
   "cell_type": "code",
   "execution_count": 2,
   "metadata": {
    "colab": {
     "base_uri": "https://localhost:8080/"
    },
    "executionInfo": {
     "elapsed": 19811,
     "status": "ok",
     "timestamp": 1672927108988,
     "user": {
      "displayName": "nome cognome",
      "userId": "03122503824888501452"
     },
     "user_tz": -60
    },
    "id": "uC3ihCzEtfmt",
    "outputId": "6856c7f8-2ffb-41f4-a9f4-a7fef8af5b30"
   },
   "outputs": [
    {
     "name": "stdout",
     "output_type": "stream",
     "text": [
      "Collecting qutip\n",
      "  Downloading qutip-4.7.1.tar.gz (3.6 MB)\n",
      "\u001b[2K     \u001b[38;2;114;156;31m━━━━━━━━━━━━━━━━━━━━━━━━━━━━━━━━━━━━━━━━\u001b[0m \u001b[32m3.6/3.6 MB\u001b[0m \u001b[31m6.6 MB/s\u001b[0m eta \u001b[36m0:00:00\u001b[0mm eta \u001b[36m0:00:01\u001b[0m0:01\u001b[0m:01\u001b[0mm\n",
      "\u001b[?25h  Installing build dependencies ... \u001b[?25ldone\n",
      "\u001b[?25h  Getting requirements to build wheel ... \u001b[?25ldone\n",
      "\u001b[?25h  Preparing metadata (pyproject.toml) ... \u001b[?25ldone\n",
      "\u001b[?25hRequirement already satisfied: scipy>=1.0 in /Users/jucgonzalezes/miniforge3/lib/python3.10/site-packages (from qutip) (1.10.0)\n",
      "Requirement already satisfied: numpy>=1.16.6 in /Users/jucgonzalezes/miniforge3/lib/python3.10/site-packages (from qutip) (1.23.2)\n",
      "Requirement already satisfied: packaging in /Users/jucgonzalezes/miniforge3/lib/python3.10/site-packages (from qutip) (21.3)\n",
      "Requirement already satisfied: pyparsing!=3.0.5,>=2.0.2 in /Users/jucgonzalezes/miniforge3/lib/python3.10/site-packages (from packaging->qutip) (3.0.9)\n",
      "Building wheels for collected packages: qutip\n",
      "  Building wheel for qutip (pyproject.toml) ... \u001b[?25ldone\n",
      "\u001b[?25h  Created wheel for qutip: filename=qutip-4.7.1-cp310-cp310-macosx_11_0_arm64.whl size=3655235 sha256=c5e3ed52be08cfa59ed79ce32ca6dc839305c37887cd674e88c10d0c6e60e057\n",
      "  Stored in directory: /Users/jucgonzalezes/Library/Caches/pip/wheels/ef/a9/eb/f8d85e52a85947c97c54fa21aa8076f671dba38be87b921f05\n",
      "Successfully built qutip\n",
      "Installing collected packages: qutip\n",
      "Successfully installed qutip-4.7.1\n"
     ]
    }
   ],
   "source": [
    "!pip install qutip"
   ]
  },
  {
   "cell_type": "code",
   "execution_count": 2,
   "metadata": {
    "executionInfo": {
     "elapsed": 385,
     "status": "ok",
     "timestamp": 1672944265256,
     "user": {
      "displayName": "nome cognome",
      "userId": "03122503824888501452"
     },
     "user_tz": -60
    },
    "id": "oxtaVq2OtKDY"
   },
   "outputs": [],
   "source": [
    "from qiskit import *\n",
    "from qiskit.tools.monitor import job_monitor\n",
    "from numpy import pi\n",
    "\n",
    "\n",
    "#class experiments contains the real and simulated experiments of a real quantum computer\n",
    "#the constructor takes in input the number of shots ie of experiments and whether you\n",
    "#want the simulated data or the real ones\n",
    "class experiments():\n",
    "    #default simulated is 1, real 0 meaning we only want simulated values\n",
    "    def __init__(self,n_of_shots,simulated=1,real=0):\n",
    "        self.shots=n_of_shots\n",
    "        self.Xsimulated=0\n",
    "        self.Ysimulated=0\n",
    "        self.Zsimulated=0\n",
    "        self.Xreal=0\n",
    "        self.Yreal=0\n",
    "        self.Zreal=0\n",
    "        if simulated==1:\n",
    "            self.simulated_X()\n",
    "            self.simulated_Y()\n",
    "            self.simulated_Z()\n",
    "        if real==1:\n",
    "            self.real_X()\n",
    "            self.real_Y()\n",
    "            self.real_Z()\n",
    "        \n",
    "        \n",
    "    def simulated_X(self):\n",
    "        qr=QuantumRegister(1)\n",
    "        cr=ClassicalRegister(1)\n",
    "        circuit=QuantumCircuit(qr,cr)\n",
    "        circuit.h(qr[0])\n",
    "        circuit.barrier(qr[0])\n",
    "        circuit.measure(qr,cr)\n",
    "        simulator=Aer.get_backend(\"qasm_simulator\")\n",
    "        result=execute(circuit,backend=simulator,shots=self.shots).result()\n",
    "        self.Zsimulated=result.get_counts(circuit)\n",
    "        \n",
    "    def simulated_Y(self):\n",
    "        qr=QuantumRegister(1)\n",
    "        cr=ClassicalRegister(1)\n",
    "        circuit=QuantumCircuit(qr,cr)\n",
    "        circuit.h(qr[0])\n",
    "        circuit.barrier(qr[0])\n",
    "        circuit.h(qr[0])\n",
    "        circuit.measure(qr,cr)\n",
    "        simulator=Aer.get_backend(\"qasm_simulator\")\n",
    "        result=execute(circuit,backend=simulator,shots=self.shots).result()\n",
    "        self.Xsimulated=result.get_counts(circuit)\n",
    "        \n",
    "    def simulated_Z(self):\n",
    "        qr=QuantumRegister(1)\n",
    "        cr=ClassicalRegister(1)\n",
    "        circuit=QuantumCircuit(qr,cr)\n",
    "        circuit.h(qr[0])\n",
    "        circuit.barrier(qr[0])\n",
    "        circuit.u(pi / 2, 0, pi / 2, qr[0])\n",
    "        circuit.measure(qr,cr)\n",
    "        simulator=Aer.get_backend(\"qasm_simulator\")\n",
    "        result=execute(circuit,backend=simulator,shots=self.shots).result()\n",
    "        self.Ysimulated=result.get_counts(circuit)\n",
    "        \n",
    "    def real_X(self):\n",
    "        qr=QuantumRegister(1)\n",
    "        cr=ClassicalRegister(1)\n",
    "        circuit=QuantumCircuit(qr,cr)\n",
    "        circuit.h(qr[0])\n",
    "        circuit.barrier(qr[0])\n",
    "        circuit.measure(qr,cr)\n",
    "        \n",
    "        IBMQ.load_account()\n",
    "        provider=IBMQ.get_provider(\"ibm-q\")\n",
    "        qcomp=provider.get_backend(\"ibmq_belem\")\n",
    "        job=execute(circuit,backend=qcomp,shots=self.shots)\n",
    "        job_monitor(job)\n",
    "        result=job.result()\n",
    "        self.Xreal=result.get_counts(circuit)\n",
    "    \n",
    "    def real_Y(self):\n",
    "        qr=QuantumRegister(1)\n",
    "        cr=ClassicalRegister(1)\n",
    "        circuit=QuantumCircuit(qr,cr)\n",
    "        circuit.h(qr[0])\n",
    "        circuit.barrier(qr[0])\n",
    "        circuit.h(qr[0])\n",
    "        circuit.measure(qr,cr)\n",
    "        \n",
    "        IBMQ.load_account()\n",
    "        provider=IBMQ.get_provider(\"ibm-q\")\n",
    "        qcomp=provider.get_backend(\"ibmq_belem\")\n",
    "        job=execute(circuit,backend=qcomp,shots=self.shots)\n",
    "        job_monitor(job)\n",
    "        result=job.result()\n",
    "        self.Yreal=result.get_counts(circuit)\n",
    "        \n",
    "    def real_Z(self):\n",
    "        qr=QuantumRegister(1)\n",
    "        cr=ClassicalRegister(1)\n",
    "        circuit=QuantumCircuit(qr,cr)\n",
    "        circuit.h(qr[0])\n",
    "        circuit.barrier(qr[0])\n",
    "        circuit.u(pi / 2, 0, pi / 2, qr[0])\n",
    "        circuit.measure(qr,cr)\n",
    "        \n",
    "        IBMQ.load_account()\n",
    "        provider=IBMQ.get_provider(\"ibm-q\")\n",
    "        qcomp=provider.get_backend(\"ibmq_belem\")\n",
    "        job=execute(circuit,backend=qcomp,shots=self.shots)\n",
    "        job_monitor(job)\n",
    "        result=job.result()\n",
    "        self.Zreal=result.get_counts(circuit)"
   ]
  },
  {
   "cell_type": "code",
   "execution_count": 3,
   "metadata": {
    "colab": {
     "base_uri": "https://localhost:8080/"
    },
    "executionInfo": {
     "elapsed": 320,
     "status": "ok",
     "timestamp": 1672944280744,
     "user": {
      "displayName": "nome cognome",
      "userId": "03122503824888501452"
     },
     "user_tz": -60
    },
    "id": "WIJpCxUFtWS_",
    "outputId": "42959d71-947a-4dc1-e417-063898c285a3"
   },
   "outputs": [
    {
     "name": "stdout",
     "output_type": "stream",
     "text": [
      "{'0': 75}\n",
      "{'1': 44, '0': 31}\n",
      "{'1': 33, '0': 42}\n"
     ]
    },
    {
     "name": "stderr",
     "output_type": "stream",
     "text": [
      "/Users/jucgonzalezes/miniforge3/envs/BQST/lib/python3.10/site-packages/numpy/linalg/linalg.py:2154: RuntimeWarning: divide by zero encountered in det\n",
      "  r = _umath_linalg.det(a, signature=signature)\n",
      "/Users/jucgonzalezes/miniforge3/envs/BQST/lib/python3.10/site-packages/numpy/linalg/linalg.py:2154: RuntimeWarning: invalid value encountered in det\n",
      "  r = _umath_linalg.det(a, signature=signature)\n"
     ]
    }
   ],
   "source": [
    "#NB class mumbers are dictionaries so you must input \"0\" and \"1\" to get the associated count\n",
    "ex1=experiments(75,1,0)\n",
    "print(ex1.Xsimulated)\n",
    "print(ex1.Ysimulated)\n",
    "print(ex1.Zsimulated)\n",
    "ex1.Xsimulated['1'] = 0"
   ]
  },
  {
   "cell_type": "code",
   "execution_count": 4,
   "metadata": {
    "executionInfo": {
     "elapsed": 258,
     "status": "ok",
     "timestamp": 1672944282726,
     "user": {
      "displayName": "nome cognome",
      "userId": "03122503824888501452"
     },
     "user_tz": -60
    },
    "id": "7yS4kWwbtxoP"
   },
   "outputs": [],
   "source": [
    "mesur_list = [0] * ex1.Xsimulated['0'] + [1] * ex1.Xsimulated['1'] + [2] * ex1.Ysimulated['0'] + [3] * ex1.Ysimulated['1'] + [4] * ex1.Zsimulated['0'] + [5] * ex1.Zsimulated['1']"
   ]
  },
  {
   "cell_type": "code",
   "execution_count": 5,
   "metadata": {
    "executionInfo": {
     "elapsed": 219,
     "status": "ok",
     "timestamp": 1672944087742,
     "user": {
      "displayName": "nome cognome",
      "userId": "03122503824888501452"
     },
     "user_tz": -60
    },
    "id": "o_D1PAO6CMjr"
   },
   "outputs": [],
   "source": [
    "np.random.seed(6)"
   ]
  },
  {
   "cell_type": "code",
   "execution_count": 6,
   "metadata": {
    "executionInfo": {
     "elapsed": 301,
     "status": "ok",
     "timestamp": 1672944285862,
     "user": {
      "displayName": "nome cognome",
      "userId": "03122503824888501452"
     },
     "user_tz": -60
    },
    "id": "3fIZPsuoC7SG"
   },
   "outputs": [],
   "source": [
    "def Haar_sampling(N):\n",
    "    l =[0] * N\n",
    "    for i in range(N):\n",
    "        M = np.random.normal( size = ( 2, 2 ) ) + 1j * np.random.normal( size = ( 2, 2 ) )\n",
    "        X = M.dot(M.conj().T)\n",
    "        l[i] = X/ np.trace(X)\n",
    "    return l"
   ]
  },
  {
   "cell_type": "code",
   "execution_count": 7,
   "metadata": {
    "executionInfo": {
     "elapsed": 231,
     "status": "ok",
     "timestamp": 1672944287208,
     "user": {
      "displayName": "nome cognome",
      "userId": "03122503824888501452"
     },
     "user_tz": -60
    },
    "id": "DKvuWN4HNhAP"
   },
   "outputs": [],
   "source": [
    "E0 = np.matrix([[1 , 0],[0 , 0]])\n",
    "E1 = np.matrix([[0 , 0],[0 , 1]])\n",
    "H = 1/np.sqrt(2) * np.matrix([[1 , 1],[1 , -1]])\n",
    "U = 1/np.sqrt(2) * np.matrix([[1 , -1j],[1 , 1j]])"
   ]
  },
  {
   "cell_type": "code",
   "execution_count": 8,
   "metadata": {
    "id": "wdi8d6ryov_S"
   },
   "outputs": [],
   "source": [
    "list_mesure = [E0, E1, np.matmul(np.matmul(H,E0),H.H),\n",
    "               np.matmul(np.matmul(H,E1),H.H),np.matmul(np.matmul(U,E0),U.H), \n",
    "               np.matmul(np.matmul(U,E1),U.H) ]"
   ]
  },
  {
   "cell_type": "code",
   "execution_count": 9,
   "metadata": {
    "executionInfo": {
     "elapsed": 2,
     "status": "ok",
     "timestamp": 1672944288017,
     "user": {
      "displayName": "nome cognome",
      "userId": "03122503824888501452"
     },
     "user_tz": -60
    },
    "id": "2b0W4Ynec4JE"
   },
   "outputs": [],
   "source": [
    "list_mesure = [E0, E1,E0,E1,E0,E1]"
   ]
  },
  {
   "cell_type": "code",
   "execution_count": 10,
   "metadata": {
    "executionInfo": {
     "elapsed": 2,
     "status": "ok",
     "timestamp": 1672944289045,
     "user": {
      "displayName": "nome cognome",
      "userId": "03122503824888501452"
     },
     "user_tz": -60
    },
    "id": "2h1tgmM9Ea2-"
   },
   "outputs": [],
   "source": [
    "def Sequential_MC(N_particuls, list_Mesure, list_instance,particuls,weights,toll):\n",
    "    N_mesurement = len(list_instance)\n",
    "    random.shuffle(list_instance)\n",
    "    Seff=1\n",
    "    for i in range(N_mesurement):\n",
    "        outcome = list_Mesure[list_instance[i]]   \n",
    "#      weight_total_nextstep = 0\n",
    " #     for part in range(N_particuls):\n",
    "#        weight_total_nextstep += np.trace(particuls[part].dot(outcome)).real * weights[part]\n",
    "        for part in range(N_particuls):\n",
    "            if list_instance[i]==0 or list_instance[i]==1:  \n",
    "                p=np.matmul(H,np.matmul(particuls[part],H))\n",
    "              \n",
    "            elif list_instance[i]==2 or list_instance[i]==3:\n",
    "                p=np.matmul(U,np.matmul(particuls[part],U.H)) \n",
    "            else:\n",
    "                p=particuls[part] \n",
    "            weights[part] = np.trace(p.dot(outcome)).real * weights[part]\n",
    "        \n",
    "        weight_total_nextstep = np.sum(weights)\n",
    "        for k in range(N_particuls):\n",
    "            weights[k] = weights[k] / weight_total_nextstep\n",
    "    \n",
    "        Wsq=0\n",
    "        for m in range(N_particuls):\n",
    "            Wsq=Wsq+weights[m]**2\n",
    "        Seff=1/Wsq\n",
    "        # print(Seff)\n",
    "        # print(i)\n",
    "        if(Seff/N_particuls<toll):\n",
    "            break\n",
    "        # print(\"-----------------\")\n",
    "    return weights"
   ]
  },
  {
   "cell_type": "code",
   "execution_count": 11,
   "metadata": {
    "colab": {
     "base_uri": "https://localhost:8080/"
    },
    "executionInfo": {
     "elapsed": 578,
     "status": "ok",
     "timestamp": 1672944342976,
     "user": {
      "displayName": "nome cognome",
      "userId": "03122503824888501452"
     },
     "user_tz": -60
    },
    "id": "Q8TXoa2jMfZY",
    "outputId": "2b68eea8-dcd1-4f08-efee-13087246a156",
    "tags": []
   },
   "outputs": [],
   "source": [
    "toll=0.1\n",
    "n=500\n",
    "particuls = Haar_sampling(n)\n",
    "weights = [1/n] * n\n",
    "# weigths = Sequential_MC(n,list_mesure,mesur_list,particuls,weights,toll)"
   ]
  },
  {
   "cell_type": "code",
   "execution_count": 12,
   "metadata": {
    "executionInfo": {
     "elapsed": 230,
     "status": "ok",
     "timestamp": 1672944296078,
     "user": {
      "displayName": "nome cognome",
      "userId": "03122503824888501452"
     },
     "user_tz": -60
    },
    "id": "7SiRQOF_u7wa"
   },
   "outputs": [],
   "source": [
    "def jittering(state):\n",
    "    lamda,theta,phi=np.random.normal(0, 0.1),np.random.normal(0, 0.1),np.random.normal(0, 0.1)\n",
    "    U=np.matrix([[np.cos(theta/2), -np.exp(1j*lamda)*np.sin(theta/2)],[np.exp(1j*phi)*np.sin(theta/2), np.exp(1j*(lamda+phi))*np.cos(theta/2)]])\n",
    "    return np.matmul(U,np.matmul(state,U.H))"
   ]
  },
  {
   "cell_type": "code",
   "execution_count": 13,
   "metadata": {
    "executionInfo": {
     "elapsed": 232,
     "status": "ok",
     "timestamp": 1672944297313,
     "user": {
      "displayName": "nome cognome",
      "userId": "03122503824888501452"
     },
     "user_tz": -60
    },
    "id": "InCHYqz6zYlJ"
   },
   "outputs": [],
   "source": [
    "def to_index(res):\n",
    "    index_vec=[]\n",
    "    for i in range(len(res)):\n",
    "        j=0\n",
    "        while j<res[i]:\n",
    "            j=j+1\n",
    "            index_vec.append(i)\n",
    "    return index_vec"
   ]
  },
  {
   "cell_type": "code",
   "execution_count": 14,
   "metadata": {
    "executionInfo": {
     "elapsed": 300,
     "status": "ok",
     "timestamp": 1672944299081,
     "user": {
      "displayName": "nome cognome",
      "userId": "03122503824888501452"
     },
     "user_tz": -60
    },
    "id": "nrILaSbCxHgI"
   },
   "outputs": [],
   "source": [
    "def resampling(res,particuls):\n",
    "    par=particuls\n",
    "    res=to_index(res)\n",
    "    for i in range(len(res)):\n",
    "        par[i]=jittering(particuls[res[i]])\n",
    "    return par"
   ]
  },
  {
   "cell_type": "code",
   "execution_count": 15,
   "metadata": {
    "colab": {
     "base_uri": "https://localhost:8080/"
    },
    "executionInfo": {
     "elapsed": 23133,
     "status": "ok",
     "timestamp": 1672944324751,
     "user": {
      "displayName": "nome cognome",
      "userId": "03122503824888501452"
     },
     "user_tz": -60
    },
    "id": "tt-WVhtUgDkH",
    "outputId": "3de378c1-01ed-4b71-ed6d-e069d9948d96",
    "tags": []
   },
   "outputs": [],
   "source": [
    "iter=10\n",
    "for i in range(iter):\n",
    "    #order = np.argsort(weights)\n",
    "    #weight_ordered = [weights[k] for k in order]\n",
    "    #particul_ordered = [particuls[k] for k in order]\n",
    "    #weights, particuls = weight_ordered, particul_ordered\n",
    "    #weights.reverse()\n",
    "    #particuls.reverse()\n",
    "    #Wsq=0\n",
    "    #for i in range(n):\n",
    "    # Wsq=Wsq+weights[i]**2\n",
    "    #Seff=1/Wsq\n",
    "    res=np.random.multinomial(n,pvals=weights)\n",
    "    particuls=resampling(res,particuls)\n",
    "    weights = [1/n] * n\n",
    "    weights=Sequential_MC(n,list_mesure,mesur_list,particuls,weights,toll)"
   ]
  },
  {
   "cell_type": "code",
   "execution_count": 16,
   "metadata": {
    "executionInfo": {
     "elapsed": 46,
     "status": "ok",
     "timestamp": 1672944324752,
     "user": {
      "displayName": "nome cognome",
      "userId": "03122503824888501452"
     },
     "user_tz": -60
    },
    "id": "bDtrOdQZ82UN"
   },
   "outputs": [],
   "source": [
    "order = np.argsort(weights)\n",
    "weight_ordered = [weights[k] for k in order]\n",
    "particul_ordered = [particuls[k] for k in order]\n",
    "weights, particuls = weight_ordered, particul_ordered"
   ]
  },
  {
   "cell_type": "code",
   "execution_count": 17,
   "metadata": {
    "colab": {
     "base_uri": "https://localhost:8080/"
    },
    "executionInfo": {
     "elapsed": 45,
     "status": "ok",
     "timestamp": 1672944324752,
     "user": {
      "displayName": "nome cognome",
      "userId": "03122503824888501452"
     },
     "user_tz": -60
    },
    "id": "_MSS1uOFc4JG",
    "outputId": "c916061b-b550-4150-cf7b-55bd0304130d"
   },
   "outputs": [
    {
     "data": {
      "text/plain": [
       "matrix([[0.5647082 +9.90248875e-18j, 0.44759855+1.51324756e-01j],\n",
       "        [0.44759855-1.51324756e-01j, 0.4352918 -3.77137325e-17j]])"
      ]
     },
     "execution_count": 17,
     "metadata": {},
     "output_type": "execute_result"
    }
   ],
   "source": [
    "particuls[order[0]]"
   ]
  },
  {
   "cell_type": "code",
   "execution_count": 18,
   "metadata": {
    "executionInfo": {
     "elapsed": 11,
     "status": "ok",
     "timestamp": 1672944324753,
     "user": {
      "displayName": "nome cognome",
      "userId": "03122503824888501452"
     },
     "user_tz": -60
    },
    "id": "HlWU-CY0gVJA"
   },
   "outputs": [],
   "source": [
    "Level_of_confidence = 0.95"
   ]
  },
  {
   "cell_type": "code",
   "execution_count": 19,
   "metadata": {
    "executionInfo": {
     "elapsed": 11,
     "status": "ok",
     "timestamp": 1672944324754,
     "user": {
      "displayName": "nome cognome",
      "userId": "03122503824888501452"
     },
     "user_tz": -60
    },
    "id": "kAK-rYsNwE7B",
    "tags": []
   },
   "outputs": [],
   "source": [
    "sum = 0\n",
    "rank = 0\n",
    "N = len(weights)\n",
    "while (rank < N) and (sum < Level_of_confidence):\n",
    "    sum += weights[-rank-1]\n",
    "    rank += 1"
   ]
  },
  {
   "cell_type": "code",
   "execution_count": 20,
   "metadata": {
    "colab": {
     "base_uri": "https://localhost:8080/"
    },
    "executionInfo": {
     "elapsed": 12,
     "status": "ok",
     "timestamp": 1672944324755,
     "user": {
      "displayName": "nome cognome",
      "userId": "03122503824888501452"
     },
     "user_tz": -60
    },
    "id": "_Nexkz1jzv3x",
    "outputId": "64161481-4689-4a6c-f296-099920e79b03"
   },
   "outputs": [
    {
     "data": {
      "text/plain": [
       "308"
      ]
     },
     "execution_count": 20,
     "metadata": {},
     "output_type": "execute_result"
    }
   ],
   "source": [
    "rank"
   ]
  },
  {
   "cell_type": "code",
   "execution_count": 21,
   "metadata": {
    "colab": {
     "base_uri": "https://localhost:8080/"
    },
    "executionInfo": {
     "elapsed": 12,
     "status": "ok",
     "timestamp": 1672944324756,
     "user": {
      "displayName": "nome cognome",
      "userId": "03122503824888501452"
     },
     "user_tz": -60
    },
    "id": "D6CASPM9Z8O_",
    "outputId": "e6d5e36e-b8aa-48c3-fee3-def45011305a"
   },
   "outputs": [
    {
     "name": "stdout",
     "output_type": "stream",
     "text": [
      "0.006717851109896299\n",
      "0.9999999999999998\n"
     ]
    }
   ],
   "source": [
    "pmax = np.amax(np.array(weights))\n",
    "print(pmax)\n",
    "s = np.sum(np.array(weights))\n",
    "print(s)"
   ]
  },
  {
   "cell_type": "code",
   "execution_count": 22,
   "metadata": {
    "executionInfo": {
     "elapsed": 9,
     "status": "ok",
     "timestamp": 1672944324756,
     "user": {
      "displayName": "nome cognome",
      "userId": "03122503824888501452"
     },
     "user_tz": -60
    },
    "id": "H5T9v942R7Jl"
   },
   "outputs": [],
   "source": [
    "Id = np.matrix([[1 , 0],[0 , 1]])\n",
    "sx = np.matrix([[0 , 1] , [1 , 0]])\n",
    "sy = np.matrix([[0 , -1j] , [1j , 0]])\n",
    "sz = np.matrix([[1,0] , [0,-1]])"
   ]
  },
  {
   "cell_type": "code",
   "execution_count": 23,
   "metadata": {
    "executionInfo": {
     "elapsed": 9,
     "status": "ok",
     "timestamp": 1672944324756,
     "user": {
      "displayName": "nome cognome",
      "userId": "03122503824888501452"
     },
     "user_tz": -60
    },
    "id": "RtlvYJkLQgf6"
   },
   "outputs": [],
   "source": [
    "def measure(ρ):\n",
    "    Id = np.matrix([[1 , 0],[0 , 1]])\n",
    "    sx = np.matrix([[0 , 1] , [1 , 0]])\n",
    "    sy = np.matrix([[0 , -1j] , [1j , 0]])\n",
    "    sz = np.matrix([[1,0] , [0,-1]])    \n",
    "    x = np.trace(np.dot(ρ, sx)).real\n",
    "    y = np.trace(np.dot(ρ, sy)).real\n",
    "    z = np.trace(np.dot(ρ, sz)).real\n",
    "    return [x, y, z]"
   ]
  },
  {
   "cell_type": "code",
   "execution_count": 24,
   "metadata": {
    "executionInfo": {
     "elapsed": 227,
     "status": "ok",
     "timestamp": 1672944353849,
     "user": {
      "displayName": "nome cognome",
      "userId": "03122503824888501452"
     },
     "user_tz": -60
    },
    "id": "pharumSZQmU0"
   },
   "outputs": [],
   "source": [
    "R = [measure(rho) for rho in particuls]"
   ]
  },
  {
   "cell_type": "code",
   "execution_count": 25,
   "metadata": {
    "colab": {
     "base_uri": "https://localhost:8080/",
     "height": 319
    },
    "executionInfo": {
     "elapsed": 891,
     "status": "ok",
     "timestamp": 1672944355905,
     "user": {
      "displayName": "nome cognome",
      "userId": "03122503824888501452"
     },
     "user_tz": -60
    },
    "id": "oZ31CTSrQ-eB",
    "outputId": "cbcf2b53-2121-43ea-a153-cb35abfc79c9"
   },
   "outputs": [
    {
     "data": {
      "text/plain": [
       "<Figure size 640x480 with 0 Axes>"
      ]
     },
     "metadata": {},
     "output_type": "display_data"
    }
   ],
   "source": [
    "import numpy as np\n",
    "import matplotlib.pyplot as plt\n",
    "import mpl_toolkits.mplot3d.axes3d as p3\n",
    "import matplotlib.animation as animation\n",
    " \n",
    "fig = plt.figure()\n",
    "ax = p3.Axes3D(fig)\n",
    "# Setting the axes properties\n",
    "ax.set_xlim3d([-1.0, 1.0])\n",
    "ax.set_xlabel('X')\n",
    "\n",
    "ax.set_ylim3d([-1.0, 1.0])\n",
    "ax.set_ylabel('Y')\n",
    "\n",
    "ax.set_zlim3d([-1.0, 1.0])\n",
    "ax.set_zlabel('Z')\n",
    "\n",
    "ax.set_title('3D Test')\n",
    " \n",
    "# syntax for 3-D projection\n",
    "\"\"\"for i in range(len(list)):\n",
    "  z = list[i][2]\n",
    "  x = list[i][0]\n",
    "  y = list[i][1]\n",
    "  ax.scatter(x, y, z)\"\"\"\n",
    "N = len(R)\n",
    "\n",
    "z = [R[i][2] for i in range(N)]\n",
    "x = [R[i][0] for i in range(N)]\n",
    "y = [R[i][1] for i in range(N)]\n",
    "ax.scatter(x, y, z)\n",
    " \n",
    "# syntax for plotting\n",
    "ax.set_title('3d Scatter plot for point visualisation')\n",
    "plt.show()"
   ]
  },
  {
   "cell_type": "code",
   "execution_count": 26,
   "metadata": {
    "colab": {
     "base_uri": "https://localhost:8080/",
     "height": 319
    },
    "executionInfo": {
     "elapsed": 2090,
     "status": "ok",
     "timestamp": 1672944376443,
     "user": {
      "displayName": "nome cognome",
      "userId": "03122503824888501452"
     },
     "user_tz": -60
    },
    "id": "2JgNav_TSIFs",
    "outputId": "dccd6f62-45e2-4bb9-cba4-e2f0390fa824"
   },
   "outputs": [
    {
     "data": {
      "text/plain": [
       "<Figure size 640x480 with 0 Axes>"
      ]
     },
     "metadata": {},
     "output_type": "display_data"
    }
   ],
   "source": [
    "#plot with color for weight visualisation\n",
    "import numpy as np\n",
    "import matplotlib.pyplot as plt\n",
    "import mpl_toolkits.mplot3d.axes3d as p3\n",
    "import matplotlib.animation as animation\n",
    " \n",
    "fig = plt.figure()\n",
    "\n",
    "N = len(particuls)\n",
    "# max = np.amax(weigths)\n",
    "\n",
    "b = qutip.Bloch3d()\n",
    "\n",
    "x, y, z = [], [], []\n",
    "# syntax for 3-D projection\n",
    "for i in range(N):\n",
    "  #c = ((1-weigths[i]/max),(1-weigths[i]/max), (1-weigths[i]/max))\n",
    "    c = (0,0,0)\n",
    "    p = measure(particuls[i])\n",
    "    z.append(p[2])\n",
    "    x.append(p[0])\n",
    "    y.append(p[1])\n",
    "  #ax.scatter(x, y, z, c = weights[i]*255*10)\n",
    "\n",
    "\n",
    "b.add_points([x, y, z])\n",
    "\n",
    "\n",
    "b.show()"
   ]
  },
  {
   "cell_type": "code",
   "execution_count": 61,
   "metadata": {},
   "outputs": [
    {
     "data": {
      "text/plain": [
       "matrix([[0.13488487-3.83481408e-17j, 0.22565636+6.63805410e-02j],\n",
       "        [0.22565636-6.63805410e-02j, 0.86511513+3.62960468e-17j]])"
      ]
     },
     "execution_count": 61,
     "metadata": {},
     "output_type": "execute_result"
    }
   ],
   "source": [
    "particuls[0]"
   ]
  },
  {
   "cell_type": "code",
   "execution_count": 62,
   "metadata": {
    "colab": {
     "base_uri": "https://localhost:8080/"
    },
    "executionInfo": {
     "elapsed": 10,
     "status": "ok",
     "timestamp": 1672944327106,
     "user": {
      "displayName": "nome cognome",
      "userId": "03122503824888501452"
     },
     "user_tz": -60
    },
    "id": "dWc-41_vE6VW",
    "outputId": "d1c3fafe-37bc-4067-aa1c-0a298a62b9eb"
   },
   "outputs": [
    {
     "data": {
      "text/plain": [
       "195.20652330157168"
      ]
     },
     "execution_count": 62,
     "metadata": {},
     "output_type": "execute_result"
    }
   ],
   "source": [
    "Wsq=0\n",
    "for i in range(n):\n",
    "    Wsq=Wsq+weights[i]**2\n",
    "Seff=1/Wsq\n",
    "Seff"
   ]
  },
  {
   "cell_type": "code",
   "execution_count": 63,
   "metadata": {
    "id": "oouAqy90Y-rD"
   },
   "outputs": [],
   "source": [
    "s = np.sum(R)"
   ]
  },
  {
   "cell_type": "code",
   "execution_count": 64,
   "metadata": {
    "id": "ZNRfXZu6ZC0s"
   },
   "outputs": [
    {
     "name": "stdout",
     "output_type": "stream",
     "text": [
      "322.4917937135731\n"
     ]
    }
   ],
   "source": [
    "print(s)"
   ]
  },
  {
   "cell_type": "code",
   "execution_count": 65,
   "metadata": {
    "id": "PwaHJdZgc4JK"
   },
   "outputs": [
    {
     "name": "stdout",
     "output_type": "stream",
     "text": [
      "2.481991372678963e-21 0.008328312099551134\n"
     ]
    }
   ],
   "source": [
    "print(weights[0],weights[-1])"
   ]
  },
  {
   "cell_type": "code",
   "execution_count": null,
   "metadata": {},
   "outputs": [],
   "source": []
  }
 ],
 "metadata": {
  "colab": {
   "provenance": []
  },
  "kernelspec": {
   "display_name": "BQST",
   "language": "python",
   "name": "bqst"
  },
  "language_info": {
   "codemirror_mode": {
    "name": "ipython",
    "version": 3
   },
   "file_extension": ".py",
   "mimetype": "text/x-python",
   "name": "python",
   "nbconvert_exporter": "python",
   "pygments_lexer": "ipython3",
   "version": "3.10.6"
  }
 },
 "nbformat": 4,
 "nbformat_minor": 4
}
